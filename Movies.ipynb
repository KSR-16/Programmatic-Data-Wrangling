{
 "cells": [
  {
   "cell_type": "markdown",
   "source": [
    "#                                       <u> TMDB Movies (Programmatic Data Wrangling) </u>"
   ],
   "metadata": {
    "collapsed": false
   }
  },
  {
   "cell_type": "code",
   "execution_count": 1,
   "metadata": {
    "collapsed": true,
    "ExecuteTime": {
     "end_time": "2023-06-29T08:39:13.778019900Z",
     "start_time": "2023-06-29T08:39:13.767027600Z"
    }
   },
   "outputs": [],
   "source": [
    "#Importing libaries\n",
    "\n",
    "import numpy as np\n",
    "import seaborn as sns\n",
    "import matplotlib.pyplot as plt\n",
    "import pandas as pd"
   ]
  },
  {
   "cell_type": "code",
   "execution_count": 167,
   "outputs": [],
   "source": [
    "# Importing the csv file and transforming it into the DataFrame\n",
    "\n",
    "dataset = \"TMDB_movies.csv\"\n",
    "df = pd.read_csv(dataset)"
   ],
   "metadata": {
    "collapsed": false,
    "ExecuteTime": {
     "end_time": "2023-06-29T14:37:09.360055300Z",
     "start_time": "2023-06-29T14:37:04.256937600Z"
    }
   }
  },
  {
   "cell_type": "code",
   "execution_count": 168,
   "outputs": [
    {
     "data": {
      "text/plain": "(4803, 20)"
     },
     "execution_count": 168,
     "metadata": {},
     "output_type": "execute_result"
    }
   ],
   "source": [
    "# First step was to look at how many rows and columns it has\n",
    "\n",
    "df.shape"
   ],
   "metadata": {
    "collapsed": false,
    "ExecuteTime": {
     "end_time": "2023-06-29T14:37:17.034287400Z",
     "start_time": "2023-06-29T14:37:16.946341100Z"
    }
   }
  },
  {
   "cell_type": "code",
   "execution_count": 169,
   "outputs": [
    {
     "data": {
      "text/plain": "budget            int64\ngenres           object\nhomepage         object\nid                int64\nkeywords         object\n                 ...   \nstatus           object\ntagline          object\ntitle            object\nvote_average    float64\nvote_count        int64\nLength: 20, dtype: object"
     },
     "execution_count": 169,
     "metadata": {},
     "output_type": "execute_result"
    }
   ],
   "source": [
    "# Looking at what data types the columns used\n",
    "\n",
    "df.dtypes"
   ],
   "metadata": {
    "collapsed": false,
    "ExecuteTime": {
     "end_time": "2023-06-29T14:37:18.600473Z",
     "start_time": "2023-06-29T14:37:18.487538200Z"
    }
   }
  },
  {
   "cell_type": "code",
   "execution_count": 170,
   "outputs": [
    {
     "name": "stdout",
     "output_type": "stream",
     "text": [
      "<class 'pandas.core.frame.DataFrame'>\n",
      "RangeIndex: 4803 entries, 0 to 4802\n",
      "Data columns (total 20 columns):\n",
      " #   Column                Non-Null Count  Dtype  \n",
      "---  ------                --------------  -----  \n",
      " 0   budget                4803 non-null   int64  \n",
      " 1   genres                4803 non-null   object \n",
      " 2   homepage              1712 non-null   object \n",
      " 3   id                    4803 non-null   int64  \n",
      " 4   keywords              4803 non-null   object \n",
      " 5   original_language     4803 non-null   object \n",
      " 6   original_title        4803 non-null   object \n",
      " 7   overview              4800 non-null   object \n",
      " 8   popularity            4803 non-null   float64\n",
      " 9   production_companies  4803 non-null   object \n",
      " 10  production_countries  4803 non-null   object \n",
      " 11  release_date          4802 non-null   object \n",
      " 12  revenue               4803 non-null   int64  \n",
      " 13  runtime               4801 non-null   float64\n",
      " 14  spoken_languages      4803 non-null   object \n",
      " 15  status                4803 non-null   object \n",
      " 16  tagline               3959 non-null   object \n",
      " 17  title                 4803 non-null   object \n",
      " 18  vote_average          4803 non-null   float64\n",
      " 19  vote_count            4803 non-null   int64  \n",
      "dtypes: float64(3), int64(4), object(13)\n",
      "memory usage: 750.6+ KB\n"
     ]
    }
   ],
   "source": [
    "# Looking at the datatypes with a count of Non Nulls and seeing what stands out\n",
    "\n",
    "df.info()"
   ],
   "metadata": {
    "collapsed": false,
    "ExecuteTime": {
     "end_time": "2023-06-29T14:37:22.279958800Z",
     "start_time": "2023-06-29T14:37:21.048924700Z"
    }
   }
  },
  {
   "cell_type": "code",
   "execution_count": 171,
   "outputs": [
    {
     "data": {
      "text/plain": "      budget                                             genres  \\\n0  237000000  [{\"id\": 28, \"name\": \"Action\"}, {\"id\": 12, \"nam...   \n1  300000000  [{\"id\": 12, \"name\": \"Adventure\"}, {\"id\": 14, \"...   \n2  245000000  [{\"id\": 28, \"name\": \"Action\"}, {\"id\": 12, \"nam...   \n3  250000000  [{\"id\": 28, \"name\": \"Action\"}, {\"id\": 80, \"nam...   \n4  260000000  [{\"id\": 28, \"name\": \"Action\"}, {\"id\": 12, \"nam...   \n\n                                       homepage      id  \\\n0                   http://www.avatarmovie.com/   19995   \n1  http://disney.go.com/disneypictures/pirates/     285   \n2   http://www.sonypictures.com/movies/spectre/  206647   \n3            http://www.thedarkknightrises.com/   49026   \n4          http://movies.disney.com/john-carter   49529   \n\n                                            keywords original_language  \\\n0  [{\"id\": 1463, \"name\": \"culture clash\"}, {\"id\":...                en   \n1  [{\"id\": 270, \"name\": \"ocean\"}, {\"id\": 726, \"na...                en   \n2  [{\"id\": 470, \"name\": \"spy\"}, {\"id\": 818, \"name...                en   \n3  [{\"id\": 849, \"name\": \"dc comics\"}, {\"id\": 853,...                en   \n4  [{\"id\": 818, \"name\": \"based on novel\"}, {\"id\":...                en   \n\n                             original_title  \\\n0                                    Avatar   \n1  Pirates of the Caribbean: At World's End   \n2                                   Spectre   \n3                     The Dark Knight Rises   \n4                               John Carter   \n\n                                            overview  popularity  \\\n0  In the 22nd century, a paraplegic Marine is di...  150.437577   \n1  Captain Barbossa, long believed to be dead, ha...  139.082615   \n2  A cryptic message from Bond’s past sends him o...  107.376788   \n3  Following the death of District Attorney Harve...  112.312950   \n4  John Carter is a war-weary, former military ca...   43.926995   \n\n                                production_companies  \\\n0  [{\"name\": \"Ingenious Film Partners\", \"id\": 289...   \n1  [{\"name\": \"Walt Disney Pictures\", \"id\": 2}, {\"...   \n2  [{\"name\": \"Columbia Pictures\", \"id\": 5}, {\"nam...   \n3  [{\"name\": \"Legendary Pictures\", \"id\": 923}, {\"...   \n4        [{\"name\": \"Walt Disney Pictures\", \"id\": 2}]   \n\n                                production_countries release_date     revenue  \\\n0  [{\"iso_3166_1\": \"US\", \"name\": \"United States o...   2009-12-10  2787965087   \n1  [{\"iso_3166_1\": \"US\", \"name\": \"United States o...   2007-05-19   961000000   \n2  [{\"iso_3166_1\": \"GB\", \"name\": \"United Kingdom\"...   2015-10-26   880674609   \n3  [{\"iso_3166_1\": \"US\", \"name\": \"United States o...   2012-07-16  1084939099   \n4  [{\"iso_3166_1\": \"US\", \"name\": \"United States o...   2012-03-07   284139100   \n\n   runtime                                   spoken_languages    status  \\\n0    162.0  [{\"iso_639_1\": \"en\", \"name\": \"English\"}, {\"iso...  Released   \n1    169.0           [{\"iso_639_1\": \"en\", \"name\": \"English\"}]  Released   \n2    148.0  [{\"iso_639_1\": \"fr\", \"name\": \"Fran\\u00e7ais\"},...  Released   \n3    165.0           [{\"iso_639_1\": \"en\", \"name\": \"English\"}]  Released   \n4    132.0           [{\"iso_639_1\": \"en\", \"name\": \"English\"}]  Released   \n\n                                          tagline  \\\n0                     Enter the World of Pandora.   \n1  At the end of the world, the adventure begins.   \n2                           A Plan No One Escapes   \n3                                 The Legend Ends   \n4            Lost in our world, found in another.   \n\n                                      title  vote_average  vote_count  \n0                                    Avatar           7.2       11800  \n1  Pirates of the Caribbean: At World's End           6.9        4500  \n2                                   Spectre           6.3        4466  \n3                     The Dark Knight Rises           7.6        9106  \n4                               John Carter           6.1        2124  ",
      "text/html": "<div>\n<style scoped>\n    .dataframe tbody tr th:only-of-type {\n        vertical-align: middle;\n    }\n\n    .dataframe tbody tr th {\n        vertical-align: top;\n    }\n\n    .dataframe thead th {\n        text-align: right;\n    }\n</style>\n<table border=\"1\" class=\"dataframe\">\n  <thead>\n    <tr style=\"text-align: right;\">\n      <th></th>\n      <th>budget</th>\n      <th>genres</th>\n      <th>homepage</th>\n      <th>id</th>\n      <th>keywords</th>\n      <th>original_language</th>\n      <th>original_title</th>\n      <th>overview</th>\n      <th>popularity</th>\n      <th>production_companies</th>\n      <th>production_countries</th>\n      <th>release_date</th>\n      <th>revenue</th>\n      <th>runtime</th>\n      <th>spoken_languages</th>\n      <th>status</th>\n      <th>tagline</th>\n      <th>title</th>\n      <th>vote_average</th>\n      <th>vote_count</th>\n    </tr>\n  </thead>\n  <tbody>\n    <tr>\n      <th>0</th>\n      <td>237000000</td>\n      <td>[{\"id\": 28, \"name\": \"Action\"}, {\"id\": 12, \"nam...</td>\n      <td>http://www.avatarmovie.com/</td>\n      <td>19995</td>\n      <td>[{\"id\": 1463, \"name\": \"culture clash\"}, {\"id\":...</td>\n      <td>en</td>\n      <td>Avatar</td>\n      <td>In the 22nd century, a paraplegic Marine is di...</td>\n      <td>150.437577</td>\n      <td>[{\"name\": \"Ingenious Film Partners\", \"id\": 289...</td>\n      <td>[{\"iso_3166_1\": \"US\", \"name\": \"United States o...</td>\n      <td>2009-12-10</td>\n      <td>2787965087</td>\n      <td>162.0</td>\n      <td>[{\"iso_639_1\": \"en\", \"name\": \"English\"}, {\"iso...</td>\n      <td>Released</td>\n      <td>Enter the World of Pandora.</td>\n      <td>Avatar</td>\n      <td>7.2</td>\n      <td>11800</td>\n    </tr>\n    <tr>\n      <th>1</th>\n      <td>300000000</td>\n      <td>[{\"id\": 12, \"name\": \"Adventure\"}, {\"id\": 14, \"...</td>\n      <td>http://disney.go.com/disneypictures/pirates/</td>\n      <td>285</td>\n      <td>[{\"id\": 270, \"name\": \"ocean\"}, {\"id\": 726, \"na...</td>\n      <td>en</td>\n      <td>Pirates of the Caribbean: At World's End</td>\n      <td>Captain Barbossa, long believed to be dead, ha...</td>\n      <td>139.082615</td>\n      <td>[{\"name\": \"Walt Disney Pictures\", \"id\": 2}, {\"...</td>\n      <td>[{\"iso_3166_1\": \"US\", \"name\": \"United States o...</td>\n      <td>2007-05-19</td>\n      <td>961000000</td>\n      <td>169.0</td>\n      <td>[{\"iso_639_1\": \"en\", \"name\": \"English\"}]</td>\n      <td>Released</td>\n      <td>At the end of the world, the adventure begins.</td>\n      <td>Pirates of the Caribbean: At World's End</td>\n      <td>6.9</td>\n      <td>4500</td>\n    </tr>\n    <tr>\n      <th>2</th>\n      <td>245000000</td>\n      <td>[{\"id\": 28, \"name\": \"Action\"}, {\"id\": 12, \"nam...</td>\n      <td>http://www.sonypictures.com/movies/spectre/</td>\n      <td>206647</td>\n      <td>[{\"id\": 470, \"name\": \"spy\"}, {\"id\": 818, \"name...</td>\n      <td>en</td>\n      <td>Spectre</td>\n      <td>A cryptic message from Bond’s past sends him o...</td>\n      <td>107.376788</td>\n      <td>[{\"name\": \"Columbia Pictures\", \"id\": 5}, {\"nam...</td>\n      <td>[{\"iso_3166_1\": \"GB\", \"name\": \"United Kingdom\"...</td>\n      <td>2015-10-26</td>\n      <td>880674609</td>\n      <td>148.0</td>\n      <td>[{\"iso_639_1\": \"fr\", \"name\": \"Fran\\u00e7ais\"},...</td>\n      <td>Released</td>\n      <td>A Plan No One Escapes</td>\n      <td>Spectre</td>\n      <td>6.3</td>\n      <td>4466</td>\n    </tr>\n    <tr>\n      <th>3</th>\n      <td>250000000</td>\n      <td>[{\"id\": 28, \"name\": \"Action\"}, {\"id\": 80, \"nam...</td>\n      <td>http://www.thedarkknightrises.com/</td>\n      <td>49026</td>\n      <td>[{\"id\": 849, \"name\": \"dc comics\"}, {\"id\": 853,...</td>\n      <td>en</td>\n      <td>The Dark Knight Rises</td>\n      <td>Following the death of District Attorney Harve...</td>\n      <td>112.312950</td>\n      <td>[{\"name\": \"Legendary Pictures\", \"id\": 923}, {\"...</td>\n      <td>[{\"iso_3166_1\": \"US\", \"name\": \"United States o...</td>\n      <td>2012-07-16</td>\n      <td>1084939099</td>\n      <td>165.0</td>\n      <td>[{\"iso_639_1\": \"en\", \"name\": \"English\"}]</td>\n      <td>Released</td>\n      <td>The Legend Ends</td>\n      <td>The Dark Knight Rises</td>\n      <td>7.6</td>\n      <td>9106</td>\n    </tr>\n    <tr>\n      <th>4</th>\n      <td>260000000</td>\n      <td>[{\"id\": 28, \"name\": \"Action\"}, {\"id\": 12, \"nam...</td>\n      <td>http://movies.disney.com/john-carter</td>\n      <td>49529</td>\n      <td>[{\"id\": 818, \"name\": \"based on novel\"}, {\"id\":...</td>\n      <td>en</td>\n      <td>John Carter</td>\n      <td>John Carter is a war-weary, former military ca...</td>\n      <td>43.926995</td>\n      <td>[{\"name\": \"Walt Disney Pictures\", \"id\": 2}]</td>\n      <td>[{\"iso_3166_1\": \"US\", \"name\": \"United States o...</td>\n      <td>2012-03-07</td>\n      <td>284139100</td>\n      <td>132.0</td>\n      <td>[{\"iso_639_1\": \"en\", \"name\": \"English\"}]</td>\n      <td>Released</td>\n      <td>Lost in our world, found in another.</td>\n      <td>John Carter</td>\n      <td>6.1</td>\n      <td>2124</td>\n    </tr>\n  </tbody>\n</table>\n</div>"
     },
     "execution_count": 171,
     "metadata": {},
     "output_type": "execute_result"
    }
   ],
   "source": [
    "# First look at 5 rows of the DataFrame to see how the data presented itself\n",
    "\n",
    "df.head()"
   ],
   "metadata": {
    "collapsed": false,
    "ExecuteTime": {
     "end_time": "2023-06-29T14:37:23.683937Z",
     "start_time": "2023-06-29T14:37:23.480055300Z"
    }
   }
  },
  {
   "cell_type": "code",
   "execution_count": 246,
   "outputs": [
    {
     "data": {
      "text/plain": "               budget           id  popularity          revenue    runtime  \\\ncount      4765.00000   4765.00000  4765.00000       4765.00000 4765.00000   \nmean   29272174.92529  55803.29171    21.66070   82916108.00336  107.66590   \nstd    40804042.09600  87084.48860    31.88709  163339138.78863   20.74852   \nmin           0.00000      5.00000     0.00037          0.00000   14.00000   \n25%     1000000.00000   8987.00000     4.85040          0.00000   94.00000   \n50%    15000000.00000  14444.00000    13.15600   19598588.00000  104.00000   \n75%    40000000.00000  57120.00000    28.54027   93772522.00000  118.00000   \nmax   380000000.00000 447027.00000   875.58131 2787965087.00000  338.00000   \n\n       vote_average  vote_count  \ncount    4765.00000  4765.00000  \nmean        6.11310   695.69528  \nstd         1.14396  1237.96898  \nmin         0.00000     0.00000  \n25%         5.60000    56.00000  \n50%         6.20000   240.00000  \n75%         6.80000   742.00000  \nmax        10.00000 13752.00000  ",
      "text/html": "<div>\n<style scoped>\n    .dataframe tbody tr th:only-of-type {\n        vertical-align: middle;\n    }\n\n    .dataframe tbody tr th {\n        vertical-align: top;\n    }\n\n    .dataframe thead th {\n        text-align: right;\n    }\n</style>\n<table border=\"1\" class=\"dataframe\">\n  <thead>\n    <tr style=\"text-align: right;\">\n      <th></th>\n      <th>budget</th>\n      <th>id</th>\n      <th>popularity</th>\n      <th>revenue</th>\n      <th>runtime</th>\n      <th>vote_average</th>\n      <th>vote_count</th>\n    </tr>\n  </thead>\n  <tbody>\n    <tr>\n      <th>count</th>\n      <td>4765.00000</td>\n      <td>4765.00000</td>\n      <td>4765.00000</td>\n      <td>4765.00000</td>\n      <td>4765.00000</td>\n      <td>4765.00000</td>\n      <td>4765.00000</td>\n    </tr>\n    <tr>\n      <th>mean</th>\n      <td>29272174.92529</td>\n      <td>55803.29171</td>\n      <td>21.66070</td>\n      <td>82916108.00336</td>\n      <td>107.66590</td>\n      <td>6.11310</td>\n      <td>695.69528</td>\n    </tr>\n    <tr>\n      <th>std</th>\n      <td>40804042.09600</td>\n      <td>87084.48860</td>\n      <td>31.88709</td>\n      <td>163339138.78863</td>\n      <td>20.74852</td>\n      <td>1.14396</td>\n      <td>1237.96898</td>\n    </tr>\n    <tr>\n      <th>min</th>\n      <td>0.00000</td>\n      <td>5.00000</td>\n      <td>0.00037</td>\n      <td>0.00000</td>\n      <td>14.00000</td>\n      <td>0.00000</td>\n      <td>0.00000</td>\n    </tr>\n    <tr>\n      <th>25%</th>\n      <td>1000000.00000</td>\n      <td>8987.00000</td>\n      <td>4.85040</td>\n      <td>0.00000</td>\n      <td>94.00000</td>\n      <td>5.60000</td>\n      <td>56.00000</td>\n    </tr>\n    <tr>\n      <th>50%</th>\n      <td>15000000.00000</td>\n      <td>14444.00000</td>\n      <td>13.15600</td>\n      <td>19598588.00000</td>\n      <td>104.00000</td>\n      <td>6.20000</td>\n      <td>240.00000</td>\n    </tr>\n    <tr>\n      <th>75%</th>\n      <td>40000000.00000</td>\n      <td>57120.00000</td>\n      <td>28.54027</td>\n      <td>93772522.00000</td>\n      <td>118.00000</td>\n      <td>6.80000</td>\n      <td>742.00000</td>\n    </tr>\n    <tr>\n      <th>max</th>\n      <td>380000000.00000</td>\n      <td>447027.00000</td>\n      <td>875.58131</td>\n      <td>2787965087.00000</td>\n      <td>338.00000</td>\n      <td>10.00000</td>\n      <td>13752.00000</td>\n    </tr>\n  </tbody>\n</table>\n</div>"
     },
     "execution_count": 246,
     "metadata": {},
     "output_type": "execute_result"
    }
   ],
   "source": [
    "# Using descriptive analysis on the numerical columns to get an idea of how the data varies\n",
    "\n",
    "df.describe()"
   ],
   "metadata": {
    "collapsed": false,
    "ExecuteTime": {
     "end_time": "2023-06-29T22:38:38.601716400Z",
     "start_time": "2023-06-29T22:38:37.999619600Z"
    }
   }
  },
  {
   "cell_type": "markdown",
   "source": [
    "**Checking for nulls**"
   ],
   "metadata": {
    "collapsed": false
   }
  },
  {
   "cell_type": "code",
   "execution_count": 173,
   "outputs": [
    {
     "data": {
      "text/plain": "budget             0\ngenres             0\nhomepage        3091\nid                 0\nkeywords           0\n                ... \nstatus             0\ntagline          844\ntitle              0\nvote_average       0\nvote_count         0\nLength: 20, dtype: int64"
     },
     "execution_count": 173,
     "metadata": {},
     "output_type": "execute_result"
    }
   ],
   "source": [
    "# Gaining an easier look of the number of nulls in each column\n",
    "\n",
    "df.isnull().sum()"
   ],
   "metadata": {
    "collapsed": false,
    "ExecuteTime": {
     "end_time": "2023-06-29T14:37:30.070278700Z",
     "start_time": "2023-06-29T14:37:29.954346500Z"
    }
   }
  },
  {
   "cell_type": "markdown",
   "source": [
    "Looking for unique values and options to create a category for the data. orginal_language has 37 so can use this to categorise."
   ],
   "metadata": {
    "collapsed": false
   }
  },
  {
   "cell_type": "code",
   "execution_count": 174,
   "outputs": [
    {
     "data": {
      "text/plain": "budget           436\ngenres          1175\nhomepage        1691\nid              4803\nkeywords        4222\n                ... \nstatus             3\ntagline         3944\ntitle           4800\nvote_average      71\nvote_count      1609\nLength: 20, dtype: int64"
     },
     "execution_count": 174,
     "metadata": {},
     "output_type": "execute_result"
    }
   ],
   "source": [
    "df.nunique()"
   ],
   "metadata": {
    "collapsed": false,
    "ExecuteTime": {
     "end_time": "2023-06-29T14:37:33.328359600Z",
     "start_time": "2023-06-29T14:37:32.906361600Z"
    }
   }
  },
  {
   "cell_type": "code",
   "execution_count": 175,
   "outputs": [
    {
     "data": {
      "text/plain": "array(['en', 'ja', 'fr', 'zh', 'es', 'de', 'hi', 'ru', 'ko', 'te', 'cn',\n       'it', 'nl', 'ta', 'sv', 'th', 'da', 'xx', 'hu', 'cs', 'pt', 'is',\n       'tr', 'nb', 'af', 'pl', 'he', 'ar', 'vi', 'ky', 'id', 'ro', 'fa',\n       'no', 'sl', 'ps', 'el'], dtype=object)"
     },
     "execution_count": 175,
     "metadata": {},
     "output_type": "execute_result"
    }
   ],
   "source": [
    "# Breakdown on the different types of languages used\n",
    "\n",
    "df.original_language.unique()"
   ],
   "metadata": {
    "collapsed": false,
    "ExecuteTime": {
     "end_time": "2023-06-29T14:37:36.791245100Z",
     "start_time": "2023-06-29T14:37:36.698307800Z"
    }
   }
  },
  {
   "cell_type": "code",
   "execution_count": 176,
   "outputs": [],
   "source": [
    "# Changing the data type of original_language from object to category in the DataFrame\n",
    "\n",
    "df['original_language'] = df.original_language.astype('category')"
   ],
   "metadata": {
    "collapsed": false,
    "ExecuteTime": {
     "end_time": "2023-06-29T14:37:38.957218900Z",
     "start_time": "2023-06-29T14:37:38.760332500Z"
    }
   }
  },
  {
   "cell_type": "code",
   "execution_count": 177,
   "outputs": [
    {
     "data": {
      "text/plain": "['en', 'ja', 'fr', 'zh', 'es', ..., 'fa', 'no', 'sl', 'ps', 'el']\nLength: 37\nCategories (37, object): ['af', 'ar', 'cn', 'cs', ..., 'tr', 'vi', 'xx', 'zh']"
     },
     "execution_count": 177,
     "metadata": {},
     "output_type": "execute_result"
    }
   ],
   "source": [
    "# Confirmation that it has changed\n",
    "\n",
    "df['original_language'].unique()"
   ],
   "metadata": {
    "collapsed": false,
    "ExecuteTime": {
     "end_time": "2023-06-29T14:37:42.149944100Z",
     "start_time": "2023-06-29T14:37:42.049999500Z"
    }
   }
  },
  {
   "cell_type": "markdown",
   "source": [
    "**Extracting Data from columns**"
   ],
   "metadata": {
    "collapsed": false
   }
  },
  {
   "cell_type": "code",
   "execution_count": 100,
   "outputs": [],
   "source": [
    "# Importing the ast module to access 5 columns easier\n",
    "\n",
    "import ast"
   ],
   "metadata": {
    "collapsed": false,
    "ExecuteTime": {
     "end_time": "2023-06-29T10:10:47.549884100Z",
     "start_time": "2023-06-29T10:10:47.510888200Z"
    }
   }
  },
  {
   "cell_type": "code",
   "execution_count": 178,
   "outputs": [],
   "source": [
    "#1\n",
    "\n",
    "def extract_genres(x):\n",
    "    x = ast.literal_eval(x) ## Transform '['name', 'id']' back into ['name', 'id'] - Outside quotation marks removed\n",
    "    Genres = [] ## Empty list to store the genres\n",
    "\n",
    "    ''' Iterate through each dictionary '''\n",
    "    for item in x: ## iterate for each dictionary in our list\n",
    "        Genres.append(item['name']) ## Grab the 'name' key for each dictionary\n",
    "\n",
    "    ''' Return the Genres'''\n",
    "    return Genres\n",
    "\n",
    "## Apply the function to genres\n",
    "df['extracted_genres'] = df['genres'].apply(extract_genres)"
   ],
   "metadata": {
    "collapsed": false,
    "ExecuteTime": {
     "end_time": "2023-06-29T14:37:56.127614300Z",
     "start_time": "2023-06-29T14:37:54.582123700Z"
    }
   }
  },
  {
   "cell_type": "code",
   "execution_count": 185,
   "outputs": [
    {
     "data": {
      "text/plain": "21"
     },
     "execution_count": 185,
     "metadata": {},
     "output_type": "execute_result"
    }
   ],
   "source": [
    "# Confirmation that the new column has been added as orginal number was 20 and now 21\n",
    "\n",
    "df.shape[1]"
   ],
   "metadata": {
    "collapsed": false,
    "ExecuteTime": {
     "end_time": "2023-06-29T14:39:31.286833900Z",
     "start_time": "2023-06-29T14:39:31.171899400Z"
    }
   }
  },
  {
   "cell_type": "code",
   "execution_count": 186,
   "outputs": [],
   "source": [
    "#2\n",
    "\n",
    "def extract_keywords(x):\n",
    "    x = ast.literal_eval(x) ## Transform '['name', 'id']' back into ['name', 'id']\n",
    "    Keywords = [] ## Empty list to store the genres\n",
    "\n",
    "    ''' Iterate through each dictionary '''\n",
    "    for item in x: ## iterate for each dictionary in our list\n",
    "        Keywords.append(item['name']) ## Grab the 'name' key for each dictionary\n",
    "\n",
    "    ''' Return the Genres'''\n",
    "    return Keywords\n",
    "\n",
    "## Apply the function to genres\n",
    "df['extracted_keywords'] = df['keywords'].apply(extract_keywords)"
   ],
   "metadata": {
    "collapsed": false,
    "ExecuteTime": {
     "end_time": "2023-06-29T14:39:42.591200300Z",
     "start_time": "2023-06-29T14:39:40.671999100Z"
    }
   }
  },
  {
   "cell_type": "code",
   "execution_count": 187,
   "outputs": [
    {
     "data": {
      "text/plain": "22"
     },
     "execution_count": 187,
     "metadata": {},
     "output_type": "execute_result"
    }
   ],
   "source": [
    "df.shape[1]"
   ],
   "metadata": {
    "collapsed": false,
    "ExecuteTime": {
     "end_time": "2023-06-29T14:40:04.882823200Z",
     "start_time": "2023-06-29T14:40:04.795875600Z"
    }
   }
  },
  {
   "cell_type": "code",
   "execution_count": 188,
   "outputs": [],
   "source": [
    "#3\n",
    "\n",
    "def extract_production_companies(x):\n",
    "    x = ast.literal_eval(x) ## Transform '['name', 'id']' back into ['name', 'id']\n",
    "    Production_companies = [] ## Empty list to store the genres\n",
    "\n",
    "    ''' Iterate through each dictionary '''\n",
    "    for item in x: ## iterate for each dictionary in our list\n",
    "        Production_companies.append(item['name']) ## Grab the 'name' key for each dictionary\n",
    "\n",
    "    ''' Return the Genres'''\n",
    "    return Production_companies\n",
    "\n",
    "## Apply the function to genres\n",
    "df['extracted_production_companies'] = df['production_companies'].apply(extract_production_companies)"
   ],
   "metadata": {
    "collapsed": false,
    "ExecuteTime": {
     "end_time": "2023-06-29T14:40:13.558819200Z",
     "start_time": "2023-06-29T14:40:12.684487500Z"
    }
   }
  },
  {
   "cell_type": "code",
   "execution_count": 189,
   "outputs": [
    {
     "data": {
      "text/plain": "23"
     },
     "execution_count": 189,
     "metadata": {},
     "output_type": "execute_result"
    }
   ],
   "source": [
    "df.shape[1]"
   ],
   "metadata": {
    "collapsed": false,
    "ExecuteTime": {
     "end_time": "2023-06-29T14:40:24.344821800Z",
     "start_time": "2023-06-29T14:40:24.246879800Z"
    }
   }
  },
  {
   "cell_type": "code",
   "execution_count": 190,
   "outputs": [],
   "source": [
    "#4\n",
    "\n",
    "def extract_production_countries(x):\n",
    "    x = ast.literal_eval(x) ## Transform '['name', 'id']' back into ['name', 'id']\n",
    "    Production_countries = [] ## Empty list to store the genres\n",
    "\n",
    "    ''' Iterate through each dictionary '''\n",
    "    for item in x: ## iterate for each dictionary in our list\n",
    "        Production_countries.append(item['name']) ## Grab the 'name' key for each dictionary\n",
    "\n",
    "    ''' Return the Genres'''\n",
    "    return Production_countries\n",
    "\n",
    "## Apply the function to genres\n",
    "df['extracted_production_countries'] = df['production_countries'].apply(extract_production_countries)"
   ],
   "metadata": {
    "collapsed": false,
    "ExecuteTime": {
     "end_time": "2023-06-29T14:40:44.023779800Z",
     "start_time": "2023-06-29T14:40:43.464497500Z"
    }
   }
  },
  {
   "cell_type": "code",
   "execution_count": 191,
   "outputs": [
    {
     "data": {
      "text/plain": "24"
     },
     "execution_count": 191,
     "metadata": {},
     "output_type": "execute_result"
    }
   ],
   "source": [
    "df.shape[1]"
   ],
   "metadata": {
    "collapsed": false,
    "ExecuteTime": {
     "end_time": "2023-06-29T14:40:57.484028800Z",
     "start_time": "2023-06-29T14:40:57.451049300Z"
    }
   }
  },
  {
   "cell_type": "code",
   "execution_count": 192,
   "outputs": [],
   "source": [
    "#5\n",
    "\n",
    "def extract_spoken_languages(x):\n",
    "    x = ast.literal_eval(x) ## Transform '['name', 'id']' back into ['name', 'id']\n",
    "    Spoken_languages = [] ## Empty list to store the genres\n",
    "\n",
    "    ''' Iterate through each dictionary '''\n",
    "    for item in x: ## iterate for each dictionary in our list\n",
    "        Spoken_languages.append(item['name']) ## Grab the 'name' key for each dictionary\n",
    "\n",
    "    ''' Return the Genres'''\n",
    "    return Spoken_languages\n",
    "\n",
    "## Apply the function to genres\n",
    "df['extracted_spoken_languages'] = df['spoken_languages'].apply(extract_spoken_languages)"
   ],
   "metadata": {
    "collapsed": false,
    "ExecuteTime": {
     "end_time": "2023-06-29T14:41:08.584955900Z",
     "start_time": "2023-06-29T14:41:08.056088600Z"
    }
   }
  },
  {
   "cell_type": "code",
   "execution_count": 194,
   "outputs": [
    {
     "data": {
      "text/plain": "25"
     },
     "execution_count": 194,
     "metadata": {},
     "output_type": "execute_result"
    }
   ],
   "source": [
    "df.shape[1]"
   ],
   "metadata": {
    "collapsed": false,
    "ExecuteTime": {
     "end_time": "2023-06-29T14:41:23.674043900Z",
     "start_time": "2023-06-29T14:41:23.583730400Z"
    }
   }
  },
  {
   "cell_type": "code",
   "execution_count": 195,
   "outputs": [
    {
     "data": {
      "text/plain": "      budget                                             genres  \\\n0  237000000  [{\"id\": 28, \"name\": \"Action\"}, {\"id\": 12, \"nam...   \n1  300000000  [{\"id\": 12, \"name\": \"Adventure\"}, {\"id\": 14, \"...   \n2  245000000  [{\"id\": 28, \"name\": \"Action\"}, {\"id\": 12, \"nam...   \n3  250000000  [{\"id\": 28, \"name\": \"Action\"}, {\"id\": 80, \"nam...   \n4  260000000  [{\"id\": 28, \"name\": \"Action\"}, {\"id\": 12, \"nam...   \n\n                                       homepage      id  \\\n0                   http://www.avatarmovie.com/   19995   \n1  http://disney.go.com/disneypictures/pirates/     285   \n2   http://www.sonypictures.com/movies/spectre/  206647   \n3            http://www.thedarkknightrises.com/   49026   \n4          http://movies.disney.com/john-carter   49529   \n\n                                            keywords original_language  \\\n0  [{\"id\": 1463, \"name\": \"culture clash\"}, {\"id\":...                en   \n1  [{\"id\": 270, \"name\": \"ocean\"}, {\"id\": 726, \"na...                en   \n2  [{\"id\": 470, \"name\": \"spy\"}, {\"id\": 818, \"name...                en   \n3  [{\"id\": 849, \"name\": \"dc comics\"}, {\"id\": 853,...                en   \n4  [{\"id\": 818, \"name\": \"based on novel\"}, {\"id\":...                en   \n\n                             original_title  \\\n0                                    Avatar   \n1  Pirates of the Caribbean: At World's End   \n2                                   Spectre   \n3                     The Dark Knight Rises   \n4                               John Carter   \n\n                                            overview  popularity  \\\n0  In the 22nd century, a paraplegic Marine is di...  150.437577   \n1  Captain Barbossa, long believed to be dead, ha...  139.082615   \n2  A cryptic message from Bond’s past sends him o...  107.376788   \n3  Following the death of District Attorney Harve...  112.312950   \n4  John Carter is a war-weary, former military ca...   43.926995   \n\n                                production_companies  ...    status  \\\n0  [{\"name\": \"Ingenious Film Partners\", \"id\": 289...  ...  Released   \n1  [{\"name\": \"Walt Disney Pictures\", \"id\": 2}, {\"...  ...  Released   \n2  [{\"name\": \"Columbia Pictures\", \"id\": 5}, {\"nam...  ...  Released   \n3  [{\"name\": \"Legendary Pictures\", \"id\": 923}, {\"...  ...  Released   \n4        [{\"name\": \"Walt Disney Pictures\", \"id\": 2}]  ...  Released   \n\n                                          tagline  \\\n0                     Enter the World of Pandora.   \n1  At the end of the world, the adventure begins.   \n2                           A Plan No One Escapes   \n3                                 The Legend Ends   \n4            Lost in our world, found in another.   \n\n                                      title  vote_average vote_count  \\\n0                                    Avatar           7.2      11800   \n1  Pirates of the Caribbean: At World's End           6.9       4500   \n2                                   Spectre           6.3       4466   \n3                     The Dark Knight Rises           7.6       9106   \n4                               John Carter           6.1       2124   \n\n                                extracted_genres  \\\n0  [Action, Adventure, Fantasy, Science Fiction]   \n1                   [Adventure, Fantasy, Action]   \n2                     [Action, Adventure, Crime]   \n3               [Action, Crime, Drama, Thriller]   \n4           [Action, Adventure, Science Fiction]   \n\n                                  extracted_keywords  \\\n0  [culture clash, future, space war, space colon...   \n1  [ocean, drug abuse, exotic island, east india ...   \n2  [spy, based on novel, secret agent, sequel, mi...   \n3  [dc comics, crime fighter, terrorist, secret i...   \n4  [based on novel, mars, medallion, space travel...   \n\n                      extracted_production_companies  \\\n0  [Ingenious Film Partners, Twentieth Century Fo...   \n1  [Walt Disney Pictures, Jerry Bruckheimer Films...   \n2                   [Columbia Pictures, Danjaq, B24]   \n3  [Legendary Pictures, Warner Bros., DC Entertai...   \n4                             [Walt Disney Pictures]   \n\n               extracted_production_countries  \\\n0  [United States of America, United Kingdom]   \n1                  [United States of America]   \n2  [United Kingdom, United States of America]   \n3                  [United States of America]   \n4                  [United States of America]   \n\n                        extracted_spoken_languages  \n0                               [English, Español]  \n1                                        [English]  \n2  [Français, English, Español, Italiano, Deutsch]  \n3                                        [English]  \n4                                        [English]  \n\n[5 rows x 25 columns]",
      "text/html": "<div>\n<style scoped>\n    .dataframe tbody tr th:only-of-type {\n        vertical-align: middle;\n    }\n\n    .dataframe tbody tr th {\n        vertical-align: top;\n    }\n\n    .dataframe thead th {\n        text-align: right;\n    }\n</style>\n<table border=\"1\" class=\"dataframe\">\n  <thead>\n    <tr style=\"text-align: right;\">\n      <th></th>\n      <th>budget</th>\n      <th>genres</th>\n      <th>homepage</th>\n      <th>id</th>\n      <th>keywords</th>\n      <th>original_language</th>\n      <th>original_title</th>\n      <th>overview</th>\n      <th>popularity</th>\n      <th>production_companies</th>\n      <th>...</th>\n      <th>status</th>\n      <th>tagline</th>\n      <th>title</th>\n      <th>vote_average</th>\n      <th>vote_count</th>\n      <th>extracted_genres</th>\n      <th>extracted_keywords</th>\n      <th>extracted_production_companies</th>\n      <th>extracted_production_countries</th>\n      <th>extracted_spoken_languages</th>\n    </tr>\n  </thead>\n  <tbody>\n    <tr>\n      <th>0</th>\n      <td>237000000</td>\n      <td>[{\"id\": 28, \"name\": \"Action\"}, {\"id\": 12, \"nam...</td>\n      <td>http://www.avatarmovie.com/</td>\n      <td>19995</td>\n      <td>[{\"id\": 1463, \"name\": \"culture clash\"}, {\"id\":...</td>\n      <td>en</td>\n      <td>Avatar</td>\n      <td>In the 22nd century, a paraplegic Marine is di...</td>\n      <td>150.437577</td>\n      <td>[{\"name\": \"Ingenious Film Partners\", \"id\": 289...</td>\n      <td>...</td>\n      <td>Released</td>\n      <td>Enter the World of Pandora.</td>\n      <td>Avatar</td>\n      <td>7.2</td>\n      <td>11800</td>\n      <td>[Action, Adventure, Fantasy, Science Fiction]</td>\n      <td>[culture clash, future, space war, space colon...</td>\n      <td>[Ingenious Film Partners, Twentieth Century Fo...</td>\n      <td>[United States of America, United Kingdom]</td>\n      <td>[English, Español]</td>\n    </tr>\n    <tr>\n      <th>1</th>\n      <td>300000000</td>\n      <td>[{\"id\": 12, \"name\": \"Adventure\"}, {\"id\": 14, \"...</td>\n      <td>http://disney.go.com/disneypictures/pirates/</td>\n      <td>285</td>\n      <td>[{\"id\": 270, \"name\": \"ocean\"}, {\"id\": 726, \"na...</td>\n      <td>en</td>\n      <td>Pirates of the Caribbean: At World's End</td>\n      <td>Captain Barbossa, long believed to be dead, ha...</td>\n      <td>139.082615</td>\n      <td>[{\"name\": \"Walt Disney Pictures\", \"id\": 2}, {\"...</td>\n      <td>...</td>\n      <td>Released</td>\n      <td>At the end of the world, the adventure begins.</td>\n      <td>Pirates of the Caribbean: At World's End</td>\n      <td>6.9</td>\n      <td>4500</td>\n      <td>[Adventure, Fantasy, Action]</td>\n      <td>[ocean, drug abuse, exotic island, east india ...</td>\n      <td>[Walt Disney Pictures, Jerry Bruckheimer Films...</td>\n      <td>[United States of America]</td>\n      <td>[English]</td>\n    </tr>\n    <tr>\n      <th>2</th>\n      <td>245000000</td>\n      <td>[{\"id\": 28, \"name\": \"Action\"}, {\"id\": 12, \"nam...</td>\n      <td>http://www.sonypictures.com/movies/spectre/</td>\n      <td>206647</td>\n      <td>[{\"id\": 470, \"name\": \"spy\"}, {\"id\": 818, \"name...</td>\n      <td>en</td>\n      <td>Spectre</td>\n      <td>A cryptic message from Bond’s past sends him o...</td>\n      <td>107.376788</td>\n      <td>[{\"name\": \"Columbia Pictures\", \"id\": 5}, {\"nam...</td>\n      <td>...</td>\n      <td>Released</td>\n      <td>A Plan No One Escapes</td>\n      <td>Spectre</td>\n      <td>6.3</td>\n      <td>4466</td>\n      <td>[Action, Adventure, Crime]</td>\n      <td>[spy, based on novel, secret agent, sequel, mi...</td>\n      <td>[Columbia Pictures, Danjaq, B24]</td>\n      <td>[United Kingdom, United States of America]</td>\n      <td>[Français, English, Español, Italiano, Deutsch]</td>\n    </tr>\n    <tr>\n      <th>3</th>\n      <td>250000000</td>\n      <td>[{\"id\": 28, \"name\": \"Action\"}, {\"id\": 80, \"nam...</td>\n      <td>http://www.thedarkknightrises.com/</td>\n      <td>49026</td>\n      <td>[{\"id\": 849, \"name\": \"dc comics\"}, {\"id\": 853,...</td>\n      <td>en</td>\n      <td>The Dark Knight Rises</td>\n      <td>Following the death of District Attorney Harve...</td>\n      <td>112.312950</td>\n      <td>[{\"name\": \"Legendary Pictures\", \"id\": 923}, {\"...</td>\n      <td>...</td>\n      <td>Released</td>\n      <td>The Legend Ends</td>\n      <td>The Dark Knight Rises</td>\n      <td>7.6</td>\n      <td>9106</td>\n      <td>[Action, Crime, Drama, Thriller]</td>\n      <td>[dc comics, crime fighter, terrorist, secret i...</td>\n      <td>[Legendary Pictures, Warner Bros., DC Entertai...</td>\n      <td>[United States of America]</td>\n      <td>[English]</td>\n    </tr>\n    <tr>\n      <th>4</th>\n      <td>260000000</td>\n      <td>[{\"id\": 28, \"name\": \"Action\"}, {\"id\": 12, \"nam...</td>\n      <td>http://movies.disney.com/john-carter</td>\n      <td>49529</td>\n      <td>[{\"id\": 818, \"name\": \"based on novel\"}, {\"id\":...</td>\n      <td>en</td>\n      <td>John Carter</td>\n      <td>John Carter is a war-weary, former military ca...</td>\n      <td>43.926995</td>\n      <td>[{\"name\": \"Walt Disney Pictures\", \"id\": 2}]</td>\n      <td>...</td>\n      <td>Released</td>\n      <td>Lost in our world, found in another.</td>\n      <td>John Carter</td>\n      <td>6.1</td>\n      <td>2124</td>\n      <td>[Action, Adventure, Science Fiction]</td>\n      <td>[based on novel, mars, medallion, space travel...</td>\n      <td>[Walt Disney Pictures]</td>\n      <td>[United States of America]</td>\n      <td>[English]</td>\n    </tr>\n  </tbody>\n</table>\n<p>5 rows × 25 columns</p>\n</div>"
     },
     "execution_count": 195,
     "metadata": {},
     "output_type": "execute_result"
    }
   ],
   "source": [
    "# Looking at updated DF with new columns added at the end\n",
    "\n",
    " df.head()"
   ],
   "metadata": {
    "collapsed": false,
    "ExecuteTime": {
     "end_time": "2023-06-29T14:41:33.849826500Z",
     "start_time": "2023-06-29T14:41:33.681922500Z"
    }
   }
  },
  {
   "cell_type": "code",
   "execution_count": 196,
   "outputs": [
    {
     "data": {
      "text/plain": "                     id\noriginal_language      \nen                 4505\nfr                   70\nes                   32\nzh                   27\nde                   27\n...                 ...\nky                    1\nel                    1\nis                    1\nhu                    1\naf                    1\n\n[37 rows x 1 columns]",
      "text/html": "<div>\n<style scoped>\n    .dataframe tbody tr th:only-of-type {\n        vertical-align: middle;\n    }\n\n    .dataframe tbody tr th {\n        vertical-align: top;\n    }\n\n    .dataframe thead th {\n        text-align: right;\n    }\n</style>\n<table border=\"1\" class=\"dataframe\">\n  <thead>\n    <tr style=\"text-align: right;\">\n      <th></th>\n      <th>id</th>\n    </tr>\n    <tr>\n      <th>original_language</th>\n      <th></th>\n    </tr>\n  </thead>\n  <tbody>\n    <tr>\n      <th>en</th>\n      <td>4505</td>\n    </tr>\n    <tr>\n      <th>fr</th>\n      <td>70</td>\n    </tr>\n    <tr>\n      <th>es</th>\n      <td>32</td>\n    </tr>\n    <tr>\n      <th>zh</th>\n      <td>27</td>\n    </tr>\n    <tr>\n      <th>de</th>\n      <td>27</td>\n    </tr>\n    <tr>\n      <th>...</th>\n      <td>...</td>\n    </tr>\n    <tr>\n      <th>ky</th>\n      <td>1</td>\n    </tr>\n    <tr>\n      <th>el</th>\n      <td>1</td>\n    </tr>\n    <tr>\n      <th>is</th>\n      <td>1</td>\n    </tr>\n    <tr>\n      <th>hu</th>\n      <td>1</td>\n    </tr>\n    <tr>\n      <th>af</th>\n      <td>1</td>\n    </tr>\n  </tbody>\n</table>\n<p>37 rows × 1 columns</p>\n</div>"
     },
     "execution_count": 196,
     "metadata": {},
     "output_type": "execute_result"
    }
   ],
   "source": [
    "# A closer look on the original language and whether there was a\n",
    "# greater collection of international films that didn't use English as the main language\n",
    "\n",
    "df.groupby('original_language')[['id']].count().sort_values(by = 'id', ascending= False)"
   ],
   "metadata": {
    "collapsed": false,
    "ExecuteTime": {
     "end_time": "2023-06-29T14:42:10.666433600Z",
     "start_time": "2023-06-29T14:42:10.138379100Z"
    }
   }
  },
  {
   "cell_type": "markdown",
   "source": [
    "### A more detailed look at the rows with null values in order\n",
    "### to evaluate whether they should be removed or filled in with a placeholder depending on how crucial the column is.\n",
    "### If this action wasn't taken then making a judgement call to leave it in the DF"
   ],
   "metadata": {
    "collapsed": false
   }
  },
  {
   "cell_type": "code",
   "execution_count": 203,
   "outputs": [
    {
     "data": {
      "text/plain": "      budget genres homepage      id keywords original_language  \\\n4553       0     []      NaN  380097       []                en   \n\n                  original_title  \\\n4553  America Is Still the Place   \n\n                                               overview  popularity  \\\n4553  1971 post civil rights San Francisco seemed li...         0.0   \n\n     production_companies  ...    status tagline                       title  \\\n4553                   []  ...  Released     NaN  America Is Still the Place   \n\n      vote_average vote_count extracted_genres extracted_keywords  \\\n4553           0.0          0               []                 []   \n\n     extracted_production_companies  extracted_production_countries  \\\n4553                             []                              []   \n\n      extracted_spoken_languages  \n4553                          []  \n\n[1 rows x 25 columns]",
      "text/html": "<div>\n<style scoped>\n    .dataframe tbody tr th:only-of-type {\n        vertical-align: middle;\n    }\n\n    .dataframe tbody tr th {\n        vertical-align: top;\n    }\n\n    .dataframe thead th {\n        text-align: right;\n    }\n</style>\n<table border=\"1\" class=\"dataframe\">\n  <thead>\n    <tr style=\"text-align: right;\">\n      <th></th>\n      <th>budget</th>\n      <th>genres</th>\n      <th>homepage</th>\n      <th>id</th>\n      <th>keywords</th>\n      <th>original_language</th>\n      <th>original_title</th>\n      <th>overview</th>\n      <th>popularity</th>\n      <th>production_companies</th>\n      <th>...</th>\n      <th>status</th>\n      <th>tagline</th>\n      <th>title</th>\n      <th>vote_average</th>\n      <th>vote_count</th>\n      <th>extracted_genres</th>\n      <th>extracted_keywords</th>\n      <th>extracted_production_companies</th>\n      <th>extracted_production_countries</th>\n      <th>extracted_spoken_languages</th>\n    </tr>\n  </thead>\n  <tbody>\n    <tr>\n      <th>4553</th>\n      <td>0</td>\n      <td>[]</td>\n      <td>NaN</td>\n      <td>380097</td>\n      <td>[]</td>\n      <td>en</td>\n      <td>America Is Still the Place</td>\n      <td>1971 post civil rights San Francisco seemed li...</td>\n      <td>0.0</td>\n      <td>[]</td>\n      <td>...</td>\n      <td>Released</td>\n      <td>NaN</td>\n      <td>America Is Still the Place</td>\n      <td>0.0</td>\n      <td>0</td>\n      <td>[]</td>\n      <td>[]</td>\n      <td>[]</td>\n      <td>[]</td>\n      <td>[]</td>\n    </tr>\n  </tbody>\n</table>\n<p>1 rows × 25 columns</p>\n</div>"
     },
     "execution_count": 203,
     "metadata": {},
     "output_type": "execute_result"
    }
   ],
   "source": [
    "# Number of Films that didn't have a release date\n",
    "\n",
    "df[df['release_date'].isna()]"
   ],
   "metadata": {
    "collapsed": false,
    "ExecuteTime": {
     "end_time": "2023-06-29T14:46:56.885189300Z",
     "start_time": "2023-06-29T14:46:56.634741600Z"
    }
   }
  },
  {
   "cell_type": "code",
   "execution_count": 204,
   "outputs": [
    {
     "data": {
      "text/plain": "        budget                               genres homepage      id  \\\n2656  15000000        [{\"id\": 18, \"name\": \"Drama\"}]      NaN  370980   \n4140         2  [{\"id\": 99, \"name\": \"Documentary\"}]      NaN  459488   \n\n                                               keywords original_language  \\\n2656  [{\"id\": 717, \"name\": \"pope\"}, {\"id\": 5565, \"na...                it   \n4140  [{\"id\": 6027, \"name\": \"music\"}, {\"id\": 225822,...                en   \n\n                                  original_title overview  popularity  \\\n2656  Chiamatemi Francesco - Il Papa della gente      NaN    0.738646   \n4140                 To Be Frank, Sinatra at 100      NaN    0.050625   \n\n                                  production_companies  ...    status tagline  \\\n2656            [{\"name\": \"Taodue Film\", \"id\": 45724}]  ...  Released     NaN   \n4140  [{\"name\": \"Eyeline Entertainment\", \"id\": 60343}]  ...  Released     NaN   \n\n                                           title  vote_average vote_count  \\\n2656  Chiamatemi Francesco - Il Papa della gente           7.3         12   \n4140                 To Be Frank, Sinatra at 100           0.0          0   \n\n     extracted_genres                                 extracted_keywords  \\\n2656          [Drama]                                  [pope, biography]   \n4140    [Documentary]  [music, actors, legendary perfomer, classic ho...   \n\n     extracted_production_companies  extracted_production_countries  \\\n2656                  [Taodue Film]                         [Italy]   \n4140        [Eyeline Entertainment]                [United Kingdom]   \n\n      extracted_spoken_languages  \n2656                   [Español]  \n4140                          []  \n\n[2 rows x 25 columns]",
      "text/html": "<div>\n<style scoped>\n    .dataframe tbody tr th:only-of-type {\n        vertical-align: middle;\n    }\n\n    .dataframe tbody tr th {\n        vertical-align: top;\n    }\n\n    .dataframe thead th {\n        text-align: right;\n    }\n</style>\n<table border=\"1\" class=\"dataframe\">\n  <thead>\n    <tr style=\"text-align: right;\">\n      <th></th>\n      <th>budget</th>\n      <th>genres</th>\n      <th>homepage</th>\n      <th>id</th>\n      <th>keywords</th>\n      <th>original_language</th>\n      <th>original_title</th>\n      <th>overview</th>\n      <th>popularity</th>\n      <th>production_companies</th>\n      <th>...</th>\n      <th>status</th>\n      <th>tagline</th>\n      <th>title</th>\n      <th>vote_average</th>\n      <th>vote_count</th>\n      <th>extracted_genres</th>\n      <th>extracted_keywords</th>\n      <th>extracted_production_companies</th>\n      <th>extracted_production_countries</th>\n      <th>extracted_spoken_languages</th>\n    </tr>\n  </thead>\n  <tbody>\n    <tr>\n      <th>2656</th>\n      <td>15000000</td>\n      <td>[{\"id\": 18, \"name\": \"Drama\"}]</td>\n      <td>NaN</td>\n      <td>370980</td>\n      <td>[{\"id\": 717, \"name\": \"pope\"}, {\"id\": 5565, \"na...</td>\n      <td>it</td>\n      <td>Chiamatemi Francesco - Il Papa della gente</td>\n      <td>NaN</td>\n      <td>0.738646</td>\n      <td>[{\"name\": \"Taodue Film\", \"id\": 45724}]</td>\n      <td>...</td>\n      <td>Released</td>\n      <td>NaN</td>\n      <td>Chiamatemi Francesco - Il Papa della gente</td>\n      <td>7.3</td>\n      <td>12</td>\n      <td>[Drama]</td>\n      <td>[pope, biography]</td>\n      <td>[Taodue Film]</td>\n      <td>[Italy]</td>\n      <td>[Español]</td>\n    </tr>\n    <tr>\n      <th>4140</th>\n      <td>2</td>\n      <td>[{\"id\": 99, \"name\": \"Documentary\"}]</td>\n      <td>NaN</td>\n      <td>459488</td>\n      <td>[{\"id\": 6027, \"name\": \"music\"}, {\"id\": 225822,...</td>\n      <td>en</td>\n      <td>To Be Frank, Sinatra at 100</td>\n      <td>NaN</td>\n      <td>0.050625</td>\n      <td>[{\"name\": \"Eyeline Entertainment\", \"id\": 60343}]</td>\n      <td>...</td>\n      <td>Released</td>\n      <td>NaN</td>\n      <td>To Be Frank, Sinatra at 100</td>\n      <td>0.0</td>\n      <td>0</td>\n      <td>[Documentary]</td>\n      <td>[music, actors, legendary perfomer, classic ho...</td>\n      <td>[Eyeline Entertainment]</td>\n      <td>[United Kingdom]</td>\n      <td>[]</td>\n    </tr>\n  </tbody>\n</table>\n<p>2 rows × 25 columns</p>\n</div>"
     },
     "execution_count": 204,
     "metadata": {},
     "output_type": "execute_result"
    }
   ],
   "source": [
    "#Number of films that didn't have any runtime associated with it\n",
    "\n",
    "df[df['runtime'].isna()]"
   ],
   "metadata": {
    "collapsed": false,
    "ExecuteTime": {
     "end_time": "2023-06-29T14:47:01.933970500Z",
     "start_time": "2023-06-29T14:47:01.743083200Z"
    }
   }
  },
  {
   "cell_type": "code",
   "execution_count": 205,
   "outputs": [
    {
     "data": {
      "text/plain": "        budget                               genres homepage      id  \\\n2656  15000000        [{\"id\": 18, \"name\": \"Drama\"}]      NaN  370980   \n4140         2  [{\"id\": 99, \"name\": \"Documentary\"}]      NaN  459488   \n4431    913000  [{\"id\": 99, \"name\": \"Documentary\"}]      NaN  292539   \n\n                                               keywords original_language  \\\n2656  [{\"id\": 717, \"name\": \"pope\"}, {\"id\": 5565, \"na...                it   \n4140  [{\"id\": 6027, \"name\": \"music\"}, {\"id\": 225822,...                en   \n4431                                                 []                de   \n\n                                  original_title overview  popularity  \\\n2656  Chiamatemi Francesco - Il Papa della gente      NaN    0.738646   \n4140                 To Be Frank, Sinatra at 100      NaN    0.050625   \n4431                                 Food Chains      NaN    0.795698   \n\n                                  production_companies  ...    status tagline  \\\n2656            [{\"name\": \"Taodue Film\", \"id\": 45724}]  ...  Released     NaN   \n4140  [{\"name\": \"Eyeline Entertainment\", \"id\": 60343}]  ...  Released     NaN   \n4431                                                []  ...  Released     NaN   \n\n                                           title  vote_average vote_count  \\\n2656  Chiamatemi Francesco - Il Papa della gente           7.3         12   \n4140                 To Be Frank, Sinatra at 100           0.0          0   \n4431                                 Food Chains           7.4          8   \n\n     extracted_genres                                 extracted_keywords  \\\n2656          [Drama]                                  [pope, biography]   \n4140    [Documentary]  [music, actors, legendary perfomer, classic ho...   \n4431    [Documentary]                                                 []   \n\n     extracted_production_companies  extracted_production_countries  \\\n2656                  [Taodue Film]                         [Italy]   \n4140        [Eyeline Entertainment]                [United Kingdom]   \n4431                             []                              []   \n\n      extracted_spoken_languages  \n2656                   [Español]  \n4140                          []  \n4431                   [English]  \n\n[3 rows x 25 columns]",
      "text/html": "<div>\n<style scoped>\n    .dataframe tbody tr th:only-of-type {\n        vertical-align: middle;\n    }\n\n    .dataframe tbody tr th {\n        vertical-align: top;\n    }\n\n    .dataframe thead th {\n        text-align: right;\n    }\n</style>\n<table border=\"1\" class=\"dataframe\">\n  <thead>\n    <tr style=\"text-align: right;\">\n      <th></th>\n      <th>budget</th>\n      <th>genres</th>\n      <th>homepage</th>\n      <th>id</th>\n      <th>keywords</th>\n      <th>original_language</th>\n      <th>original_title</th>\n      <th>overview</th>\n      <th>popularity</th>\n      <th>production_companies</th>\n      <th>...</th>\n      <th>status</th>\n      <th>tagline</th>\n      <th>title</th>\n      <th>vote_average</th>\n      <th>vote_count</th>\n      <th>extracted_genres</th>\n      <th>extracted_keywords</th>\n      <th>extracted_production_companies</th>\n      <th>extracted_production_countries</th>\n      <th>extracted_spoken_languages</th>\n    </tr>\n  </thead>\n  <tbody>\n    <tr>\n      <th>2656</th>\n      <td>15000000</td>\n      <td>[{\"id\": 18, \"name\": \"Drama\"}]</td>\n      <td>NaN</td>\n      <td>370980</td>\n      <td>[{\"id\": 717, \"name\": \"pope\"}, {\"id\": 5565, \"na...</td>\n      <td>it</td>\n      <td>Chiamatemi Francesco - Il Papa della gente</td>\n      <td>NaN</td>\n      <td>0.738646</td>\n      <td>[{\"name\": \"Taodue Film\", \"id\": 45724}]</td>\n      <td>...</td>\n      <td>Released</td>\n      <td>NaN</td>\n      <td>Chiamatemi Francesco - Il Papa della gente</td>\n      <td>7.3</td>\n      <td>12</td>\n      <td>[Drama]</td>\n      <td>[pope, biography]</td>\n      <td>[Taodue Film]</td>\n      <td>[Italy]</td>\n      <td>[Español]</td>\n    </tr>\n    <tr>\n      <th>4140</th>\n      <td>2</td>\n      <td>[{\"id\": 99, \"name\": \"Documentary\"}]</td>\n      <td>NaN</td>\n      <td>459488</td>\n      <td>[{\"id\": 6027, \"name\": \"music\"}, {\"id\": 225822,...</td>\n      <td>en</td>\n      <td>To Be Frank, Sinatra at 100</td>\n      <td>NaN</td>\n      <td>0.050625</td>\n      <td>[{\"name\": \"Eyeline Entertainment\", \"id\": 60343}]</td>\n      <td>...</td>\n      <td>Released</td>\n      <td>NaN</td>\n      <td>To Be Frank, Sinatra at 100</td>\n      <td>0.0</td>\n      <td>0</td>\n      <td>[Documentary]</td>\n      <td>[music, actors, legendary perfomer, classic ho...</td>\n      <td>[Eyeline Entertainment]</td>\n      <td>[United Kingdom]</td>\n      <td>[]</td>\n    </tr>\n    <tr>\n      <th>4431</th>\n      <td>913000</td>\n      <td>[{\"id\": 99, \"name\": \"Documentary\"}]</td>\n      <td>NaN</td>\n      <td>292539</td>\n      <td>[]</td>\n      <td>de</td>\n      <td>Food Chains</td>\n      <td>NaN</td>\n      <td>0.795698</td>\n      <td>[]</td>\n      <td>...</td>\n      <td>Released</td>\n      <td>NaN</td>\n      <td>Food Chains</td>\n      <td>7.4</td>\n      <td>8</td>\n      <td>[Documentary]</td>\n      <td>[]</td>\n      <td>[]</td>\n      <td>[]</td>\n      <td>[English]</td>\n    </tr>\n  </tbody>\n</table>\n<p>3 rows × 25 columns</p>\n</div>"
     },
     "execution_count": 205,
     "metadata": {},
     "output_type": "execute_result"
    }
   ],
   "source": [
    "# Number of films that didn't have an overview\n",
    "\n",
    "df[df['overview'].isna()]"
   ],
   "metadata": {
    "collapsed": false,
    "ExecuteTime": {
     "end_time": "2023-06-29T14:47:42.783362900Z",
     "start_time": "2023-06-29T14:47:42.639934200Z"
    }
   }
  },
  {
   "cell_type": "code",
   "execution_count": 207,
   "outputs": [
    {
     "data": {
      "text/plain": "3091"
     },
     "execution_count": 207,
     "metadata": {},
     "output_type": "execute_result"
    }
   ],
   "source": [
    "# Majority of rows didn't have a website\n",
    "\n",
    "df['homepage'].isna().sum()"
   ],
   "metadata": {
    "collapsed": false,
    "ExecuteTime": {
     "end_time": "2023-06-29T15:09:01.061379900Z",
     "start_time": "2023-06-29T15:09:00.985421200Z"
    }
   }
  },
  {
   "cell_type": "code",
   "execution_count": 209,
   "outputs": [],
   "source": [
    "# Using the fill null method to input a placeholder to replace nulls\n",
    "\n",
    "df[\"homepage\"].fillna(\"No website\", inplace = True)"
   ],
   "metadata": {
    "collapsed": false,
    "ExecuteTime": {
     "end_time": "2023-06-29T15:10:45.441457300Z",
     "start_time": "2023-06-29T15:10:45.330530700Z"
    }
   }
  },
  {
   "cell_type": "code",
   "execution_count": 210,
   "outputs": [
    {
     "data": {
      "text/plain": "0"
     },
     "execution_count": 210,
     "metadata": {},
     "output_type": "execute_result"
    }
   ],
   "source": [
    "# Confirmation that it has taken effect\n",
    "\n",
    "df['homepage'].isna().sum()"
   ],
   "metadata": {
    "collapsed": false,
    "ExecuteTime": {
     "end_time": "2023-06-29T15:11:00.559368600Z",
     "start_time": "2023-06-29T15:11:00.434415600Z"
    }
   }
  },
  {
   "cell_type": "code",
   "execution_count": 213,
   "outputs": [
    {
     "data": {
      "text/plain": "         budget                                             genres  \\\n10    270000000  [{\"id\": 12, \"name\": \"Adventure\"}, {\"id\": 14, \"...   \n56    185000000  [{\"id\": 28, \"name\": \"Action\"}, {\"id\": 12, \"nam...   \n66    175000000  [{\"id\": 16, \"name\": \"Animation\"}, {\"id\": 35, \"...   \n78    175000000  [{\"id\": 10751, \"name\": \"Family\"}, {\"id\": 12, \"...   \n128   150000000  [{\"id\": 53, \"name\": \"Thriller\"}, {\"id\": 9648, ...   \n...         ...                                                ...   \n4790          0  [{\"id\": 18, \"name\": \"Drama\"}, {\"id\": 10769, \"n...   \n4794          0  [{\"id\": 53, \"name\": \"Thriller\"}, {\"id\": 27, \"n...   \n4797          0  [{\"id\": 10769, \"name\": \"Foreign\"}, {\"id\": 53, ...   \n4800          0  [{\"id\": 35, \"name\": \"Comedy\"}, {\"id\": 18, \"nam...   \n4802          0                [{\"id\": 99, \"name\": \"Documentary\"}]   \n\n                                               homepage      id  \\\n10                              http://www.superman.com    1452   \n56                        http://www.startrekmovie.com/  188927   \n66              http://disney.go.com/disneypictures/up/   14160   \n78        http://movies.disney.com/the-jungle-book-2016  278927   \n128                     http://www.angelsanddemons.com/   13448   \n...                                                 ...     ...   \n4790                                         No website   13898   \n4794                                         No website  286939   \n4797                                         No website   67238   \n4800  http://www.hallmarkchannel.com/signedsealeddel...  231617   \n4802                                         No website   25975   \n\n                                               keywords original_language  \\\n10    [{\"id\": 83, \"name\": \"saving the world\"}, {\"id\"...                en   \n56    [{\"id\": 9663, \"name\": \"sequel\"}, {\"id\": 9743, ...                en   \n66    [{\"id\": 965, \"name\": \"age difference\"}, {\"id\":...                en   \n78    [{\"id\": 818, \"name\": \"based on novel\"}, {\"id\":...                en   \n128   [{\"id\": 588, \"name\": \"rome\"}, {\"id\": 716, \"nam...                en   \n...                                                 ...               ...   \n4790                                                 []                fa   \n4794                                                 []                en   \n4797                                                 []                en   \n4800  [{\"id\": 248, \"name\": \"date\"}, {\"id\": 699, \"nam...                en   \n4802  [{\"id\": 1523, \"name\": \"obsession\"}, {\"id\": 224...                en   \n\n                    original_title  \\\n10                Superman Returns   \n56                Star Trek Beyond   \n66                              Up   \n78                 The Jungle Book   \n128                Angels & Demons   \n...                            ...   \n4790                         دایره   \n4794  Sanctuary: Quite a Conundrum   \n4797                        Cavite   \n4800     Signed, Sealed, Delivered   \n4802             My Date with Drew   \n\n                                               overview  popularity  \\\n10    Superman returns to discover his 5-year absenc...   57.925623   \n56    The USS Enterprise crew explores the furthest ...   65.352913   \n66    Carl Fredricksen spent his entire life dreamin...   92.201962   \n78    After a threat from the tiger Shere Khan force...   94.199316   \n128   Harvard symbologist Robert Langdon investigate...   67.447636   \n...                                                 ...         ...   \n4790  Various women struggle to function in the oppr...    1.193779   \n4794  It should have been just a normal day of sex, ...    0.166513   \n4797  Adam, a security guard, travels from Californi...    0.022173   \n4800  \"Signed, Sealed, Delivered\" introduces a dedic...    1.444476   \n4802  Ever since the second grade when he first saw ...    1.929883   \n\n                                   production_companies  ...    status  \\\n10    [{\"name\": \"DC Comics\", \"id\": 429}, {\"name\": \"L...  ...  Released   \n56    [{\"name\": \"Paramount Pictures\", \"id\": 4}, {\"na...  ...  Released   \n66       [{\"name\": \"Pixar Animation Studios\", \"id\": 3}]  ...  Released   \n78    [{\"name\": \"Walt Disney Pictures\", \"id\": 2}, {\"...  ...  Released   \n128   [{\"name\": \"Columbia Pictures\", \"id\": 5}, {\"nam...  ...  Released   \n...                                                 ...  ...       ...   \n4790  [{\"name\": \"Jafar Panahi Film Productions\", \"id...  ...  Released   \n4794  [{\"name\": \"Gold Lion Films\", \"id\": 37870}, {\"n...  ...  Released   \n4797                                                 []  ...  Released   \n4800  [{\"name\": \"Front Street Pictures\", \"id\": 3958}...  ...  Released   \n4802  [{\"name\": \"rusty bear entertainment\", \"id\": 87...  ...  Released   \n\n     tagline                         title  vote_average vote_count  \\\n10       NaN              Superman Returns           5.4       1400   \n56       NaN              Star Trek Beyond           6.6       2568   \n66       NaN                            Up           7.7       6870   \n78       NaN               The Jungle Book           6.7       2892   \n128      NaN               Angels & Demons           6.5       2129   \n...      ...                           ...           ...        ...   \n4790     NaN                    The Circle           6.6         17   \n4794     NaN  Sanctuary: Quite a Conundrum           0.0          0   \n4797     NaN                        Cavite           7.5          2   \n4800     NaN     Signed, Sealed, Delivered           7.0          6   \n4802     NaN             My Date with Drew           6.3         16   \n\n                                   extracted_genres  \\\n10    [Adventure, Fantasy, Action, Science Fiction]   \n56             [Action, Adventure, Science Fiction]   \n66           [Animation, Comedy, Family, Adventure]   \n78              [Family, Adventure, Drama, Fantasy]   \n128                             [Thriller, Mystery]   \n...                                             ...   \n4790                               [Drama, Foreign]   \n4794                     [Thriller, Horror, Comedy]   \n4797                            [Foreign, Thriller]   \n4800             [Comedy, Drama, Romance, TV Movie]   \n4802                                  [Documentary]   \n\n                                     extracted_keywords  \\\n10    [saving the world, dc comics, invulnerability,...   \n56              [sequel, stranded, hatred, space opera]   \n66    [age difference, central and south america, ba...   \n78    [based on novel, snake, wolf, elephant, tiger,...   \n128   [rome, vatican, based on novel, symbolism, chr...   \n...                                                 ...   \n4790                                                 []   \n4794                                                 []   \n4797                                                 []   \n4800  [date, love at first sight, narration, investi...   \n4802          [obsession, camcorder, crush, dream girl]   \n\n                         extracted_production_companies  \\\n10    [DC Comics, Legendary Pictures, Warner Bros., ...   \n56    [Paramount Pictures, Bad Robot, Perfect Storm ...   \n66                            [Pixar Animation Studios]   \n78    [Walt Disney Pictures, Walt Disney Studios Mot...   \n128   [Columbia Pictures, Imagine Entertainment, Pan...   \n...                                                 ...   \n4790                    [Jafar Panahi Film Productions]   \n4794            [Gold Lion Films, T-Street Productions]   \n4797                                                 []   \n4800  [Front Street Pictures, Muse Entertainment Ent...   \n4802       [rusty bear entertainment, lucky crow films]   \n\n                  extracted_production_countries  \\\n10                    [United States of America]   \n56                    [United States of America]   \n66                    [United States of America]   \n78    [United Kingdom, United States of America]   \n128            [Italy, United States of America]   \n...                                          ...   \n4790                                      [Iran]   \n4794                  [United States of America]   \n4797                                          []   \n4800                  [United States of America]   \n4802                  [United States of America]   \n\n                             extracted_spoken_languages  \n10                         [English, Français, Deutsch]  \n56                                            [English]  \n66                                            [English]  \n78                                            [English]  \n128   [English, Italiano, Latin, Français, Deutsch, ...  \n...                                                 ...  \n4790                                            [فارسی]  \n4794                                          [English]  \n4797                                                 []  \n4800                                          [English]  \n4802                                          [English]  \n\n[844 rows x 25 columns]",
      "text/html": "<div>\n<style scoped>\n    .dataframe tbody tr th:only-of-type {\n        vertical-align: middle;\n    }\n\n    .dataframe tbody tr th {\n        vertical-align: top;\n    }\n\n    .dataframe thead th {\n        text-align: right;\n    }\n</style>\n<table border=\"1\" class=\"dataframe\">\n  <thead>\n    <tr style=\"text-align: right;\">\n      <th></th>\n      <th>budget</th>\n      <th>genres</th>\n      <th>homepage</th>\n      <th>id</th>\n      <th>keywords</th>\n      <th>original_language</th>\n      <th>original_title</th>\n      <th>overview</th>\n      <th>popularity</th>\n      <th>production_companies</th>\n      <th>...</th>\n      <th>status</th>\n      <th>tagline</th>\n      <th>title</th>\n      <th>vote_average</th>\n      <th>vote_count</th>\n      <th>extracted_genres</th>\n      <th>extracted_keywords</th>\n      <th>extracted_production_companies</th>\n      <th>extracted_production_countries</th>\n      <th>extracted_spoken_languages</th>\n    </tr>\n  </thead>\n  <tbody>\n    <tr>\n      <th>10</th>\n      <td>270000000</td>\n      <td>[{\"id\": 12, \"name\": \"Adventure\"}, {\"id\": 14, \"...</td>\n      <td>http://www.superman.com</td>\n      <td>1452</td>\n      <td>[{\"id\": 83, \"name\": \"saving the world\"}, {\"id\"...</td>\n      <td>en</td>\n      <td>Superman Returns</td>\n      <td>Superman returns to discover his 5-year absenc...</td>\n      <td>57.925623</td>\n      <td>[{\"name\": \"DC Comics\", \"id\": 429}, {\"name\": \"L...</td>\n      <td>...</td>\n      <td>Released</td>\n      <td>NaN</td>\n      <td>Superman Returns</td>\n      <td>5.4</td>\n      <td>1400</td>\n      <td>[Adventure, Fantasy, Action, Science Fiction]</td>\n      <td>[saving the world, dc comics, invulnerability,...</td>\n      <td>[DC Comics, Legendary Pictures, Warner Bros., ...</td>\n      <td>[United States of America]</td>\n      <td>[English, Français, Deutsch]</td>\n    </tr>\n    <tr>\n      <th>56</th>\n      <td>185000000</td>\n      <td>[{\"id\": 28, \"name\": \"Action\"}, {\"id\": 12, \"nam...</td>\n      <td>http://www.startrekmovie.com/</td>\n      <td>188927</td>\n      <td>[{\"id\": 9663, \"name\": \"sequel\"}, {\"id\": 9743, ...</td>\n      <td>en</td>\n      <td>Star Trek Beyond</td>\n      <td>The USS Enterprise crew explores the furthest ...</td>\n      <td>65.352913</td>\n      <td>[{\"name\": \"Paramount Pictures\", \"id\": 4}, {\"na...</td>\n      <td>...</td>\n      <td>Released</td>\n      <td>NaN</td>\n      <td>Star Trek Beyond</td>\n      <td>6.6</td>\n      <td>2568</td>\n      <td>[Action, Adventure, Science Fiction]</td>\n      <td>[sequel, stranded, hatred, space opera]</td>\n      <td>[Paramount Pictures, Bad Robot, Perfect Storm ...</td>\n      <td>[United States of America]</td>\n      <td>[English]</td>\n    </tr>\n    <tr>\n      <th>66</th>\n      <td>175000000</td>\n      <td>[{\"id\": 16, \"name\": \"Animation\"}, {\"id\": 35, \"...</td>\n      <td>http://disney.go.com/disneypictures/up/</td>\n      <td>14160</td>\n      <td>[{\"id\": 965, \"name\": \"age difference\"}, {\"id\":...</td>\n      <td>en</td>\n      <td>Up</td>\n      <td>Carl Fredricksen spent his entire life dreamin...</td>\n      <td>92.201962</td>\n      <td>[{\"name\": \"Pixar Animation Studios\", \"id\": 3}]</td>\n      <td>...</td>\n      <td>Released</td>\n      <td>NaN</td>\n      <td>Up</td>\n      <td>7.7</td>\n      <td>6870</td>\n      <td>[Animation, Comedy, Family, Adventure]</td>\n      <td>[age difference, central and south america, ba...</td>\n      <td>[Pixar Animation Studios]</td>\n      <td>[United States of America]</td>\n      <td>[English]</td>\n    </tr>\n    <tr>\n      <th>78</th>\n      <td>175000000</td>\n      <td>[{\"id\": 10751, \"name\": \"Family\"}, {\"id\": 12, \"...</td>\n      <td>http://movies.disney.com/the-jungle-book-2016</td>\n      <td>278927</td>\n      <td>[{\"id\": 818, \"name\": \"based on novel\"}, {\"id\":...</td>\n      <td>en</td>\n      <td>The Jungle Book</td>\n      <td>After a threat from the tiger Shere Khan force...</td>\n      <td>94.199316</td>\n      <td>[{\"name\": \"Walt Disney Pictures\", \"id\": 2}, {\"...</td>\n      <td>...</td>\n      <td>Released</td>\n      <td>NaN</td>\n      <td>The Jungle Book</td>\n      <td>6.7</td>\n      <td>2892</td>\n      <td>[Family, Adventure, Drama, Fantasy]</td>\n      <td>[based on novel, snake, wolf, elephant, tiger,...</td>\n      <td>[Walt Disney Pictures, Walt Disney Studios Mot...</td>\n      <td>[United Kingdom, United States of America]</td>\n      <td>[English]</td>\n    </tr>\n    <tr>\n      <th>128</th>\n      <td>150000000</td>\n      <td>[{\"id\": 53, \"name\": \"Thriller\"}, {\"id\": 9648, ...</td>\n      <td>http://www.angelsanddemons.com/</td>\n      <td>13448</td>\n      <td>[{\"id\": 588, \"name\": \"rome\"}, {\"id\": 716, \"nam...</td>\n      <td>en</td>\n      <td>Angels &amp; Demons</td>\n      <td>Harvard symbologist Robert Langdon investigate...</td>\n      <td>67.447636</td>\n      <td>[{\"name\": \"Columbia Pictures\", \"id\": 5}, {\"nam...</td>\n      <td>...</td>\n      <td>Released</td>\n      <td>NaN</td>\n      <td>Angels &amp; Demons</td>\n      <td>6.5</td>\n      <td>2129</td>\n      <td>[Thriller, Mystery]</td>\n      <td>[rome, vatican, based on novel, symbolism, chr...</td>\n      <td>[Columbia Pictures, Imagine Entertainment, Pan...</td>\n      <td>[Italy, United States of America]</td>\n      <td>[English, Italiano, Latin, Français, Deutsch, ...</td>\n    </tr>\n    <tr>\n      <th>...</th>\n      <td>...</td>\n      <td>...</td>\n      <td>...</td>\n      <td>...</td>\n      <td>...</td>\n      <td>...</td>\n      <td>...</td>\n      <td>...</td>\n      <td>...</td>\n      <td>...</td>\n      <td>...</td>\n      <td>...</td>\n      <td>...</td>\n      <td>...</td>\n      <td>...</td>\n      <td>...</td>\n      <td>...</td>\n      <td>...</td>\n      <td>...</td>\n      <td>...</td>\n      <td>...</td>\n    </tr>\n    <tr>\n      <th>4790</th>\n      <td>0</td>\n      <td>[{\"id\": 18, \"name\": \"Drama\"}, {\"id\": 10769, \"n...</td>\n      <td>No website</td>\n      <td>13898</td>\n      <td>[]</td>\n      <td>fa</td>\n      <td>دایره</td>\n      <td>Various women struggle to function in the oppr...</td>\n      <td>1.193779</td>\n      <td>[{\"name\": \"Jafar Panahi Film Productions\", \"id...</td>\n      <td>...</td>\n      <td>Released</td>\n      <td>NaN</td>\n      <td>The Circle</td>\n      <td>6.6</td>\n      <td>17</td>\n      <td>[Drama, Foreign]</td>\n      <td>[]</td>\n      <td>[Jafar Panahi Film Productions]</td>\n      <td>[Iran]</td>\n      <td>[فارسی]</td>\n    </tr>\n    <tr>\n      <th>4794</th>\n      <td>0</td>\n      <td>[{\"id\": 53, \"name\": \"Thriller\"}, {\"id\": 27, \"n...</td>\n      <td>No website</td>\n      <td>286939</td>\n      <td>[]</td>\n      <td>en</td>\n      <td>Sanctuary: Quite a Conundrum</td>\n      <td>It should have been just a normal day of sex, ...</td>\n      <td>0.166513</td>\n      <td>[{\"name\": \"Gold Lion Films\", \"id\": 37870}, {\"n...</td>\n      <td>...</td>\n      <td>Released</td>\n      <td>NaN</td>\n      <td>Sanctuary: Quite a Conundrum</td>\n      <td>0.0</td>\n      <td>0</td>\n      <td>[Thriller, Horror, Comedy]</td>\n      <td>[]</td>\n      <td>[Gold Lion Films, T-Street Productions]</td>\n      <td>[United States of America]</td>\n      <td>[English]</td>\n    </tr>\n    <tr>\n      <th>4797</th>\n      <td>0</td>\n      <td>[{\"id\": 10769, \"name\": \"Foreign\"}, {\"id\": 53, ...</td>\n      <td>No website</td>\n      <td>67238</td>\n      <td>[]</td>\n      <td>en</td>\n      <td>Cavite</td>\n      <td>Adam, a security guard, travels from Californi...</td>\n      <td>0.022173</td>\n      <td>[]</td>\n      <td>...</td>\n      <td>Released</td>\n      <td>NaN</td>\n      <td>Cavite</td>\n      <td>7.5</td>\n      <td>2</td>\n      <td>[Foreign, Thriller]</td>\n      <td>[]</td>\n      <td>[]</td>\n      <td>[]</td>\n      <td>[]</td>\n    </tr>\n    <tr>\n      <th>4800</th>\n      <td>0</td>\n      <td>[{\"id\": 35, \"name\": \"Comedy\"}, {\"id\": 18, \"nam...</td>\n      <td>http://www.hallmarkchannel.com/signedsealeddel...</td>\n      <td>231617</td>\n      <td>[{\"id\": 248, \"name\": \"date\"}, {\"id\": 699, \"nam...</td>\n      <td>en</td>\n      <td>Signed, Sealed, Delivered</td>\n      <td>\"Signed, Sealed, Delivered\" introduces a dedic...</td>\n      <td>1.444476</td>\n      <td>[{\"name\": \"Front Street Pictures\", \"id\": 3958}...</td>\n      <td>...</td>\n      <td>Released</td>\n      <td>NaN</td>\n      <td>Signed, Sealed, Delivered</td>\n      <td>7.0</td>\n      <td>6</td>\n      <td>[Comedy, Drama, Romance, TV Movie]</td>\n      <td>[date, love at first sight, narration, investi...</td>\n      <td>[Front Street Pictures, Muse Entertainment Ent...</td>\n      <td>[United States of America]</td>\n      <td>[English]</td>\n    </tr>\n    <tr>\n      <th>4802</th>\n      <td>0</td>\n      <td>[{\"id\": 99, \"name\": \"Documentary\"}]</td>\n      <td>No website</td>\n      <td>25975</td>\n      <td>[{\"id\": 1523, \"name\": \"obsession\"}, {\"id\": 224...</td>\n      <td>en</td>\n      <td>My Date with Drew</td>\n      <td>Ever since the second grade when he first saw ...</td>\n      <td>1.929883</td>\n      <td>[{\"name\": \"rusty bear entertainment\", \"id\": 87...</td>\n      <td>...</td>\n      <td>Released</td>\n      <td>NaN</td>\n      <td>My Date with Drew</td>\n      <td>6.3</td>\n      <td>16</td>\n      <td>[Documentary]</td>\n      <td>[obsession, camcorder, crush, dream girl]</td>\n      <td>[rusty bear entertainment, lucky crow films]</td>\n      <td>[United States of America]</td>\n      <td>[English]</td>\n    </tr>\n  </tbody>\n</table>\n<p>844 rows × 25 columns</p>\n</div>"
     },
     "execution_count": 213,
     "metadata": {},
     "output_type": "execute_result"
    }
   ],
   "source": [
    "# 844 films didn't have a tagline\n",
    "\n",
    "df[df['tagline'].isna()]"
   ],
   "metadata": {
    "collapsed": false,
    "ExecuteTime": {
     "end_time": "2023-06-29T15:14:39.192898400Z",
     "start_time": "2023-06-29T15:14:39.042981700Z"
    }
   }
  },
  {
   "cell_type": "code",
   "execution_count": 215,
   "outputs": [],
   "source": [
    "# Using a placeholder to replace null and doesn't get confused as an actual tagline. Used the popular NA(Not Available)\n",
    "\n",
    "df[\"tagline\"].fillna(\"NA\", inplace = True)"
   ],
   "metadata": {
    "collapsed": false,
    "ExecuteTime": {
     "end_time": "2023-06-29T15:16:29.366263100Z",
     "start_time": "2023-06-29T15:16:29.197359700Z"
    }
   }
  },
  {
   "cell_type": "code",
   "execution_count": 218,
   "outputs": [
    {
     "data": {
      "text/plain": "0"
     },
     "execution_count": 218,
     "metadata": {},
     "output_type": "execute_result"
    }
   ],
   "source": [
    "# Confirmation that it has taken effect\n",
    "\n",
    "df['tagline'].isna().sum()"
   ],
   "metadata": {
    "collapsed": false,
    "ExecuteTime": {
     "end_time": "2023-06-29T15:17:34.644001700Z",
     "start_time": "2023-06-29T15:17:34.514078800Z"
    }
   }
  },
  {
   "cell_type": "code",
   "execution_count": 219,
   "outputs": [],
   "source": [
    "# There was an overlap with films missing data from these columns\n",
    "# It wasn't a material amount so removed from DF permanently\n",
    "\n",
    "df.dropna(\n",
    "    axis = 0,\n",
    "    how = 'any',\n",
    "    subset = ['release_date', 'runtime', 'overview'],\n",
    "    inplace = True )"
   ],
   "metadata": {
    "collapsed": false,
    "ExecuteTime": {
     "end_time": "2023-06-29T15:21:09.059192300Z",
     "start_time": "2023-06-29T15:21:08.950260100Z"
    }
   }
  },
  {
   "cell_type": "code",
   "execution_count": 220,
   "outputs": [
    {
     "data": {
      "text/plain": "budget                            0\ngenres                            0\nhomepage                          0\nid                                0\nkeywords                          0\n                                 ..\nextracted_genres                  0\nextracted_keywords                0\nextracted_production_companies    0\nextracted_production_countries    0\nextracted_spoken_languages        0\nLength: 25, dtype: int64"
     },
     "execution_count": 220,
     "metadata": {},
     "output_type": "execute_result"
    }
   ],
   "source": [
    "# Confirmation that the DF contains no nulls\n",
    "\n",
    "df.isnull().sum()"
   ],
   "metadata": {
    "collapsed": false,
    "ExecuteTime": {
     "end_time": "2023-06-29T15:21:31.807625200Z",
     "start_time": "2023-06-29T15:21:31.716678300Z"
    }
   }
  },
  {
   "cell_type": "markdown",
   "source": [
    "# Checking runtime of films. Viewing films with 0 minutes runtime and dropping them. 38 films dropped"
   ],
   "metadata": {
    "collapsed": false
   }
  },
  {
   "cell_type": "code",
   "execution_count": 243,
   "outputs": [
    {
     "data": {
      "text/plain": "Empty DataFrame\nColumns: [budget, genres, homepage, id, keywords, original_language, original_title, overview, popularity, production_companies, production_countries, release_date, revenue, runtime, spoken_languages, status, tagline, title, vote_average, vote_count, extracted_genres, extracted_keywords, extracted_production_companies, extracted_production_countries, extracted_spoken_languages]\nIndex: []\n\n[0 rows x 25 columns]",
      "text/html": "<div>\n<style scoped>\n    .dataframe tbody tr th:only-of-type {\n        vertical-align: middle;\n    }\n\n    .dataframe tbody tr th {\n        vertical-align: top;\n    }\n\n    .dataframe thead th {\n        text-align: right;\n    }\n</style>\n<table border=\"1\" class=\"dataframe\">\n  <thead>\n    <tr style=\"text-align: right;\">\n      <th></th>\n      <th>budget</th>\n      <th>genres</th>\n      <th>homepage</th>\n      <th>id</th>\n      <th>keywords</th>\n      <th>original_language</th>\n      <th>original_title</th>\n      <th>overview</th>\n      <th>popularity</th>\n      <th>production_companies</th>\n      <th>...</th>\n      <th>status</th>\n      <th>tagline</th>\n      <th>title</th>\n      <th>vote_average</th>\n      <th>vote_count</th>\n      <th>extracted_genres</th>\n      <th>extracted_keywords</th>\n      <th>extracted_production_companies</th>\n      <th>extracted_production_countries</th>\n      <th>extracted_spoken_languages</th>\n    </tr>\n  </thead>\n  <tbody>\n  </tbody>\n</table>\n<p>0 rows × 25 columns</p>\n</div>"
     },
     "execution_count": 243,
     "metadata": {},
     "output_type": "execute_result"
    }
   ],
   "source": [
    "df.loc[df.runtime == 0, :]"
   ],
   "metadata": {
    "collapsed": false,
    "ExecuteTime": {
     "end_time": "2023-06-29T20:01:51.051422200Z",
     "start_time": "2023-06-29T20:01:50.740653100Z"
    }
   }
  },
  {
   "cell_type": "code",
   "execution_count": 242,
   "outputs": [],
   "source": [
    "no_runtime = df[ (df['runtime'] == 0)  ].index\n",
    "df.drop(no_runtime , inplace=True)"
   ],
   "metadata": {
    "collapsed": false,
    "ExecuteTime": {
     "end_time": "2023-06-29T20:01:36.859535500Z",
     "start_time": "2023-06-29T20:01:36.080525Z"
    }
   }
  },
  {
   "cell_type": "code",
   "execution_count": null,
   "outputs": [],
   "source": [],
   "metadata": {
    "collapsed": false
   }
  },
  {
   "cell_type": "code",
   "execution_count": null,
   "outputs": [],
   "source": [],
   "metadata": {
    "collapsed": false
   }
  },
  {
   "cell_type": "markdown",
   "source": [
    "## *END OF CLEANING AND QUALITY CONTROL*"
   ],
   "metadata": {
    "collapsed": false
   }
  },
  {
   "cell_type": "markdown",
   "source": [
    "# <u> Exploratory Data Analysis </u>"
   ],
   "metadata": {
    "collapsed": false
   }
  },
  {
   "cell_type": "markdown",
   "source": [
    "### Contents:\n",
    "\n",
    "* 1st Visualisation\n",
    "* 1st Keypoint\n",
    "* 2nd Keypoint\n",
    "* 2nd Visualisation\n",
    "* 3rd Visualisation\n",
    "* 1st Movie\n",
    "* 2nd Movie"
   ],
   "metadata": {
    "collapsed": false
   }
  },
  {
   "cell_type": "code",
   "execution_count": 223,
   "outputs": [
    {
     "name": "stderr",
     "output_type": "stream",
     "text": [
      "C:\\Users\\user\\AppData\\Local\\Temp\\ipykernel_2104\\1134722465.py:1: FutureWarning: The default value of numeric_only in DataFrame.corr is deprecated. In a future version, it will default to False. Select only valid columns or specify the value of numeric_only to silence this warning.\n",
      "  df.corr()\n"
     ]
    },
    {
     "data": {
      "text/plain": "                budget        id  popularity   revenue   runtime  \\\nbudget        1.000000 -0.088031    0.505250  0.730764  0.269684   \nid           -0.088031  1.000000    0.033385 -0.049192 -0.150036   \npopularity    0.505250  0.033385    1.000000  0.644631  0.225265   \nrevenue       0.730764 -0.049192    0.644631  1.000000  0.251112   \nruntime       0.269684 -0.150036    0.225265  0.251112  1.000000   \nvote_average  0.092399 -0.266241    0.274408  0.197437  0.372221   \nvote_count    0.593071 -0.002479    0.778066  0.781437  0.271955   \n\n              vote_average  vote_count  \nbudget            0.092399    0.593071  \nid               -0.266241   -0.002479  \npopularity        0.274408    0.778066  \nrevenue           0.197437    0.781437  \nruntime           0.372221    0.271955  \nvote_average      1.000000    0.313869  \nvote_count        0.313869    1.000000  ",
      "text/html": "<div>\n<style scoped>\n    .dataframe tbody tr th:only-of-type {\n        vertical-align: middle;\n    }\n\n    .dataframe tbody tr th {\n        vertical-align: top;\n    }\n\n    .dataframe thead th {\n        text-align: right;\n    }\n</style>\n<table border=\"1\" class=\"dataframe\">\n  <thead>\n    <tr style=\"text-align: right;\">\n      <th></th>\n      <th>budget</th>\n      <th>id</th>\n      <th>popularity</th>\n      <th>revenue</th>\n      <th>runtime</th>\n      <th>vote_average</th>\n      <th>vote_count</th>\n    </tr>\n  </thead>\n  <tbody>\n    <tr>\n      <th>budget</th>\n      <td>1.000000</td>\n      <td>-0.088031</td>\n      <td>0.505250</td>\n      <td>0.730764</td>\n      <td>0.269684</td>\n      <td>0.092399</td>\n      <td>0.593071</td>\n    </tr>\n    <tr>\n      <th>id</th>\n      <td>-0.088031</td>\n      <td>1.000000</td>\n      <td>0.033385</td>\n      <td>-0.049192</td>\n      <td>-0.150036</td>\n      <td>-0.266241</td>\n      <td>-0.002479</td>\n    </tr>\n    <tr>\n      <th>popularity</th>\n      <td>0.505250</td>\n      <td>0.033385</td>\n      <td>1.000000</td>\n      <td>0.644631</td>\n      <td>0.225265</td>\n      <td>0.274408</td>\n      <td>0.778066</td>\n    </tr>\n    <tr>\n      <th>revenue</th>\n      <td>0.730764</td>\n      <td>-0.049192</td>\n      <td>0.644631</td>\n      <td>1.000000</td>\n      <td>0.251112</td>\n      <td>0.197437</td>\n      <td>0.781437</td>\n    </tr>\n    <tr>\n      <th>runtime</th>\n      <td>0.269684</td>\n      <td>-0.150036</td>\n      <td>0.225265</td>\n      <td>0.251112</td>\n      <td>1.000000</td>\n      <td>0.372221</td>\n      <td>0.271955</td>\n    </tr>\n    <tr>\n      <th>vote_average</th>\n      <td>0.092399</td>\n      <td>-0.266241</td>\n      <td>0.274408</td>\n      <td>0.197437</td>\n      <td>0.372221</td>\n      <td>1.000000</td>\n      <td>0.313869</td>\n    </tr>\n    <tr>\n      <th>vote_count</th>\n      <td>0.593071</td>\n      <td>-0.002479</td>\n      <td>0.778066</td>\n      <td>0.781437</td>\n      <td>0.271955</td>\n      <td>0.313869</td>\n      <td>1.000000</td>\n    </tr>\n  </tbody>\n</table>\n</div>"
     },
     "execution_count": 223,
     "metadata": {},
     "output_type": "execute_result"
    }
   ],
   "source": [
    "df.corr()"
   ],
   "metadata": {
    "collapsed": false,
    "ExecuteTime": {
     "end_time": "2023-06-29T15:28:08.202886800Z",
     "start_time": "2023-06-29T15:28:07.860085800Z"
    }
   }
  },
  {
   "cell_type": "markdown",
   "source": [
    "# 1) Visualisation\n",
    "\n",
    "## Correlation Heatmap"
   ],
   "metadata": {
    "collapsed": false
   }
  },
  {
   "cell_type": "markdown",
   "source": [
    "* Budget relationship with Revenue, Popularity and Vote count\n",
    "* Budget and vote average non existent\n",
    "* Slight correlation with the vote average and runtime. Runtime similar with budget"
   ],
   "metadata": {
    "collapsed": false
   }
  },
  {
   "cell_type": "code",
   "execution_count": 225,
   "outputs": [
    {
     "name": "stderr",
     "output_type": "stream",
     "text": [
      "C:\\Users\\user\\AppData\\Local\\Temp\\ipykernel_2104\\221941791.py:1: FutureWarning: The default value of numeric_only in DataFrame.corr is deprecated. In a future version, it will default to False. Select only valid columns or specify the value of numeric_only to silence this warning.\n",
      "  sns.heatmap(df.corr(), annot=True)\n"
     ]
    },
    {
     "data": {
      "text/plain": "<Figure size 640x480 with 2 Axes>",
      "image/png": "[encoded data removed]"
     },
     "metadata": {},
     "output_type": "display_data"
    }
   ],
   "source": [
    "sns.heatmap(df.corr(), annot=True)\n",
    "plt.show()"
   ],
   "metadata": {
    "collapsed": false
   }
  },
  {
   "cell_type": "markdown",
   "source": [
    "\n"
   ],
   "metadata": {
    "collapsed": false
   }
  },
  {
   "cell_type": "code",
   "execution_count": 229,
   "outputs": [],
   "source": [
    "##Removing scientific number view to enable easier reading of figures\n",
    "\n",
    "pd.options.display.float_format = '{:.5f}'.format"
   ],
   "metadata": {
    "collapsed": false,
    "ExecuteTime": {
     "end_time": "2023-06-29T15:59:51.329990800Z",
     "start_time": "2023-06-29T15:59:51.236046400Z"
    }
   }
  },
  {
   "cell_type": "code",
   "execution_count": 230,
   "outputs": [
    {
     "data": {
      "text/plain": "count         4799.00000\nmean      82329203.46822\nstd      162907644.10155\nmin              0.00000\n25%              0.00000\n50%       19184015.00000\n75%       92956519.00000\nmax     2787965087.00000\nName: revenue, dtype: float64"
     },
     "execution_count": 230,
     "metadata": {},
     "output_type": "execute_result"
    }
   ],
   "source": [
    "## Using revenue column to see the effect on the DF\n",
    "\n",
    "df.revenue.describe()"
   ],
   "metadata": {
    "collapsed": false,
    "ExecuteTime": {
     "end_time": "2023-06-29T15:59:52.922648400Z",
     "start_time": "2023-06-29T15:59:52.832698500Z"
    }
   }
  },
  {
   "cell_type": "markdown",
   "source": [
    "# 1) Keypoints\n",
    "\n",
    "There are 858 films that have NO budget and didn't earn any revenue. Strange and an outlier as expected data in these rows.\n",
    "This is very likely an error in the metadata or provided with the wrong database.\n",
    "I recommend investigating how and why this happened and what can be done to avoid this issue in the future.\n",
    "\n",
    "\n"
   ],
   "metadata": {
    "collapsed": false
   }
  },
  {
   "cell_type": "code",
   "execution_count": 232,
   "outputs": [
    {
     "data": {
      "text/plain": "         budget                                             genres  \\\n83     27000000  [{\"id\": 28, \"name\": \"Action\"}, {\"id\": 12, \"nam...   \n135   150000000  [{\"id\": 18, \"name\": \"Drama\"}, {\"id\": 27, \"name...   \n265           0  [{\"id\": 35, \"name\": \"Comedy\"}, {\"id\": 14, \"nam...   \n309    84000000  [{\"id\": 14, \"name\": \"Fantasy\"}, {\"id\": 35, \"na...   \n376    90000000  [{\"id\": 878, \"name\": \"Science Fiction\"}, {\"id\"...   \n...         ...                                                ...   \n4797          0  [{\"id\": 10769, \"name\": \"Foreign\"}, {\"id\": 53, ...   \n4799       9000  [{\"id\": 35, \"name\": \"Comedy\"}, {\"id\": 10749, \"...   \n4800          0  [{\"id\": 35, \"name\": \"Comedy\"}, {\"id\": 18, \"nam...   \n4801          0                                                 []   \n4802          0                [{\"id\": 99, \"name\": \"Documentary\"}]   \n\n                                               homepage      id  \\\n83                                           No website   79698   \n135                     http://www.thewolfmanmovie.com/    7978   \n265                                          No website   10588   \n309                                          No website   10214   \n376                                          No website   10357   \n...                                                 ...     ...   \n4797                                         No website   67238   \n4799                                         No website   72766   \n4800  http://www.hallmarkchannel.com/signedsealeddel...  231617   \n4801                        http://shanghaicalling.com/  126186   \n4802                                         No website   25975   \n\n                                               keywords original_language  \\\n83                                                   []                en   \n135   [{\"id\": 494, \"name\": \"father son relationship\"...                en   \n265   [{\"id\": 977, \"name\": \"cat\"}, {\"id\": 1155, \"nam...                en   \n309   [{\"id\": 1009, \"name\": \"baby\"}, {\"id\": 2546, \"n...                en   \n376   [{\"id\": 1552, \"name\": \"subway\"}, {\"id\": 2859, ...                en   \n...                                                 ...               ...   \n4797                                                 []                en   \n4799                                                 []                en   \n4800  [{\"id\": 248, \"name\": \"date\"}, {\"id\": 699, \"nam...                en   \n4801                                                 []                en   \n4802  [{\"id\": 1523, \"name\": \"obsession\"}, {\"id\": 224...                en   \n\n                 original_title  \\\n83                   The Lovers   \n135                 The Wolfman   \n265          The Cat in the Hat   \n309             Son of the Mask   \n376                     Volcano   \n...                         ...   \n4797                     Cavite   \n4799                  Newlyweds   \n4800  Signed, Sealed, Delivered   \n4801           Shanghai Calling   \n4802          My Date with Drew   \n\n                                               overview  popularity  \\\n83    The Lovers is an epic romance time travel adve...     2.41853   \n135   Lawrence Talbot, an American man on a visit to...    21.21457   \n265   Conrad and Sally Walden are home alone with th...    18.25113   \n309   Tim Avery, an aspiring cartoonist, finds himse...    17.81559   \n376   An earthquake shatters a peaceful Los Angeles ...    19.83612   \n...                                                 ...         ...   \n4797  Adam, a security guard, travels from Californi...     0.02217   \n4799  A newlywed couple's honeymoon is upended by th...     0.64255   \n4800  \"Signed, Sealed, Delivered\" introduces a dedic...     1.44448   \n4801  When ambitious New York attorney Sam is sent t...     0.85701   \n4802  Ever since the second grade when he first saw ...     1.92988   \n\n                                   production_companies  ...    status  \\\n83    [{\"name\": \"Corsan\", \"id\": 7299}, {\"name\": \"Bli...  ...  Released   \n135   [{\"name\": \"Universal Pictures\", \"id\": 33}, {\"n...  ...  Released   \n265   [{\"name\": \"Imagine Entertainment\", \"id\": 23}, ...  ...  Released   \n309   [{\"name\": \"New Line Cinema\", \"id\": 12}, {\"name...  ...  Released   \n376   [{\"name\": \"Twentieth Century Fox Film Corporat...  ...  Released   \n...                                                 ...  ...       ...   \n4797                                                 []  ...  Released   \n4799                                                 []  ...  Released   \n4800  [{\"name\": \"Front Street Pictures\", \"id\": 3958}...  ...  Released   \n4801                                                 []  ...  Released   \n4802  [{\"name\": \"rusty bear entertainment\", \"id\": 87...  ...  Released   \n\n                                                tagline  \\\n83                            Love is longer than life.   \n135      When the moon is full the legend comes to life   \n265                            Don't mess with the hat.   \n309                                         Who's next?   \n376                                  The coast is toast   \n...                                                 ...   \n4797                                                 NA   \n4799  A newlywed couple's honeymoon is upended by th...   \n4800                                                 NA   \n4801                           A New Yorker in Shanghai   \n4802                                                 NA   \n\n                          title  vote_average vote_count  \\\n83                   The Lovers       4.80000         34   \n135                 The Wolfman       5.50000        549   \n265          The Cat in the Hat       4.90000        366   \n309             Son of the Mask       3.60000        338   \n376                     Volcano       5.20000        376   \n...                         ...           ...        ...   \n4797                     Cavite       7.50000          2   \n4799                  Newlyweds       5.90000          5   \n4800  Signed, Sealed, Delivered       7.00000          6   \n4801           Shanghai Calling       5.70000          7   \n4802          My Date with Drew       6.30000         16   \n\n                                   extracted_genres  \\\n83    [Action, Adventure, Science Fiction, Romance]   \n135                       [Drama, Horror, Thriller]   \n265                       [Comedy, Fantasy, Family]   \n309            [Fantasy, Comedy, Family, Adventure]   \n376      [Science Fiction, Action, Drama, Thriller]   \n...                                             ...   \n4797                            [Foreign, Thriller]   \n4799                              [Comedy, Romance]   \n4800             [Comedy, Drama, Romance, TV Movie]   \n4801                                             []   \n4802                                  [Documentary]   \n\n                                     extracted_keywords  \\\n83                                                   []   \n135   [father son relationship, victorian england, r...   \n265   [cat, brother sister relationship, boredom, ch...   \n309                                [baby, mask, viking]   \n376   [subway, lava, volcano, volcanologist, los ang...   \n...                                                 ...   \n4797                                                 []   \n4799                                                 []   \n4800  [date, love at first sight, narration, investi...   \n4801                                                 []   \n4802          [obsession, camcorder, crush, dream girl]   \n\n                         extracted_production_companies  \\\n83    [Corsan, Bliss Media, Limelight International ...   \n135   [Universal Pictures, Stuber Productions, Relat...   \n265   [Imagine Entertainment, DreamWorks SKG, Univer...   \n309               [New Line Cinema, Pathé Distribution]   \n376            [Twentieth Century Fox Film Corporation]   \n...                                                 ...   \n4797                                                 []   \n4799                                                 []   \n4800  [Front Street Pictures, Muse Entertainment Ent...   \n4801                                                 []   \n4802       [rusty bear entertainment, lucky crow films]   \n\n           extracted_production_countries   extracted_spoken_languages  \n83            [Australia, Belgium, India]                    [English]  \n135            [United States of America]                    [English]  \n265            [United States of America]                    [English]  \n309   [Germany, United States of America]                    [English]  \n376            [United States of America]  [Deutsch, Español, English]  \n...                                   ...                          ...  \n4797                                   []                           []  \n4799                                   []                           []  \n4800           [United States of America]                    [English]  \n4801    [United States of America, China]                    [English]  \n4802           [United States of America]                    [English]  \n\n[1423 rows x 25 columns]",
      "text/html": "<div>\n<style scoped>\n    .dataframe tbody tr th:only-of-type {\n        vertical-align: middle;\n    }\n\n    .dataframe tbody tr th {\n        vertical-align: top;\n    }\n\n    .dataframe thead th {\n        text-align: right;\n    }\n</style>\n<table border=\"1\" class=\"dataframe\">\n  <thead>\n    <tr style=\"text-align: right;\">\n      <th></th>\n      <th>budget</th>\n      <th>genres</th>\n      <th>homepage</th>\n      <th>id</th>\n      <th>keywords</th>\n      <th>original_language</th>\n      <th>original_title</th>\n      <th>overview</th>\n      <th>popularity</th>\n      <th>production_companies</th>\n      <th>...</th>\n      <th>status</th>\n      <th>tagline</th>\n      <th>title</th>\n      <th>vote_average</th>\n      <th>vote_count</th>\n      <th>extracted_genres</th>\n      <th>extracted_keywords</th>\n      <th>extracted_production_companies</th>\n      <th>extracted_production_countries</th>\n      <th>extracted_spoken_languages</th>\n    </tr>\n  </thead>\n  <tbody>\n    <tr>\n      <th>83</th>\n      <td>27000000</td>\n      <td>[{\"id\": 28, \"name\": \"Action\"}, {\"id\": 12, \"nam...</td>\n      <td>No website</td>\n      <td>79698</td>\n      <td>[]</td>\n      <td>en</td>\n      <td>The Lovers</td>\n      <td>The Lovers is an epic romance time travel adve...</td>\n      <td>2.41853</td>\n      <td>[{\"name\": \"Corsan\", \"id\": 7299}, {\"name\": \"Bli...</td>\n      <td>...</td>\n      <td>Released</td>\n      <td>Love is longer than life.</td>\n      <td>The Lovers</td>\n      <td>4.80000</td>\n      <td>34</td>\n      <td>[Action, Adventure, Science Fiction, Romance]</td>\n      <td>[]</td>\n      <td>[Corsan, Bliss Media, Limelight International ...</td>\n      <td>[Australia, Belgium, India]</td>\n      <td>[English]</td>\n    </tr>\n    <tr>\n      <th>135</th>\n      <td>150000000</td>\n      <td>[{\"id\": 18, \"name\": \"Drama\"}, {\"id\": 27, \"name...</td>\n      <td>http://www.thewolfmanmovie.com/</td>\n      <td>7978</td>\n      <td>[{\"id\": 494, \"name\": \"father son relationship\"...</td>\n      <td>en</td>\n      <td>The Wolfman</td>\n      <td>Lawrence Talbot, an American man on a visit to...</td>\n      <td>21.21457</td>\n      <td>[{\"name\": \"Universal Pictures\", \"id\": 33}, {\"n...</td>\n      <td>...</td>\n      <td>Released</td>\n      <td>When the moon is full the legend comes to life</td>\n      <td>The Wolfman</td>\n      <td>5.50000</td>\n      <td>549</td>\n      <td>[Drama, Horror, Thriller]</td>\n      <td>[father son relationship, victorian england, r...</td>\n      <td>[Universal Pictures, Stuber Productions, Relat...</td>\n      <td>[United States of America]</td>\n      <td>[English]</td>\n    </tr>\n    <tr>\n      <th>265</th>\n      <td>0</td>\n      <td>[{\"id\": 35, \"name\": \"Comedy\"}, {\"id\": 14, \"nam...</td>\n      <td>No website</td>\n      <td>10588</td>\n      <td>[{\"id\": 977, \"name\": \"cat\"}, {\"id\": 1155, \"nam...</td>\n      <td>en</td>\n      <td>The Cat in the Hat</td>\n      <td>Conrad and Sally Walden are home alone with th...</td>\n      <td>18.25113</td>\n      <td>[{\"name\": \"Imagine Entertainment\", \"id\": 23}, ...</td>\n      <td>...</td>\n      <td>Released</td>\n      <td>Don't mess with the hat.</td>\n      <td>The Cat in the Hat</td>\n      <td>4.90000</td>\n      <td>366</td>\n      <td>[Comedy, Fantasy, Family]</td>\n      <td>[cat, brother sister relationship, boredom, ch...</td>\n      <td>[Imagine Entertainment, DreamWorks SKG, Univer...</td>\n      <td>[United States of America]</td>\n      <td>[English]</td>\n    </tr>\n    <tr>\n      <th>309</th>\n      <td>84000000</td>\n      <td>[{\"id\": 14, \"name\": \"Fantasy\"}, {\"id\": 35, \"na...</td>\n      <td>No website</td>\n      <td>10214</td>\n      <td>[{\"id\": 1009, \"name\": \"baby\"}, {\"id\": 2546, \"n...</td>\n      <td>en</td>\n      <td>Son of the Mask</td>\n      <td>Tim Avery, an aspiring cartoonist, finds himse...</td>\n      <td>17.81559</td>\n      <td>[{\"name\": \"New Line Cinema\", \"id\": 12}, {\"name...</td>\n      <td>...</td>\n      <td>Released</td>\n      <td>Who's next?</td>\n      <td>Son of the Mask</td>\n      <td>3.60000</td>\n      <td>338</td>\n      <td>[Fantasy, Comedy, Family, Adventure]</td>\n      <td>[baby, mask, viking]</td>\n      <td>[New Line Cinema, Pathé Distribution]</td>\n      <td>[Germany, United States of America]</td>\n      <td>[English]</td>\n    </tr>\n    <tr>\n      <th>376</th>\n      <td>90000000</td>\n      <td>[{\"id\": 878, \"name\": \"Science Fiction\"}, {\"id\"...</td>\n      <td>No website</td>\n      <td>10357</td>\n      <td>[{\"id\": 1552, \"name\": \"subway\"}, {\"id\": 2859, ...</td>\n      <td>en</td>\n      <td>Volcano</td>\n      <td>An earthquake shatters a peaceful Los Angeles ...</td>\n      <td>19.83612</td>\n      <td>[{\"name\": \"Twentieth Century Fox Film Corporat...</td>\n      <td>...</td>\n      <td>Released</td>\n      <td>The coast is toast</td>\n      <td>Volcano</td>\n      <td>5.20000</td>\n      <td>376</td>\n      <td>[Science Fiction, Action, Drama, Thriller]</td>\n      <td>[subway, lava, volcano, volcanologist, los ang...</td>\n      <td>[Twentieth Century Fox Film Corporation]</td>\n      <td>[United States of America]</td>\n      <td>[Deutsch, Español, English]</td>\n    </tr>\n    <tr>\n      <th>...</th>\n      <td>...</td>\n      <td>...</td>\n      <td>...</td>\n      <td>...</td>\n      <td>...</td>\n      <td>...</td>\n      <td>...</td>\n      <td>...</td>\n      <td>...</td>\n      <td>...</td>\n      <td>...</td>\n      <td>...</td>\n      <td>...</td>\n      <td>...</td>\n      <td>...</td>\n      <td>...</td>\n      <td>...</td>\n      <td>...</td>\n      <td>...</td>\n      <td>...</td>\n      <td>...</td>\n    </tr>\n    <tr>\n      <th>4797</th>\n      <td>0</td>\n      <td>[{\"id\": 10769, \"name\": \"Foreign\"}, {\"id\": 53, ...</td>\n      <td>No website</td>\n      <td>67238</td>\n      <td>[]</td>\n      <td>en</td>\n      <td>Cavite</td>\n      <td>Adam, a security guard, travels from Californi...</td>\n      <td>0.02217</td>\n      <td>[]</td>\n      <td>...</td>\n      <td>Released</td>\n      <td>NA</td>\n      <td>Cavite</td>\n      <td>7.50000</td>\n      <td>2</td>\n      <td>[Foreign, Thriller]</td>\n      <td>[]</td>\n      <td>[]</td>\n      <td>[]</td>\n      <td>[]</td>\n    </tr>\n    <tr>\n      <th>4799</th>\n      <td>9000</td>\n      <td>[{\"id\": 35, \"name\": \"Comedy\"}, {\"id\": 10749, \"...</td>\n      <td>No website</td>\n      <td>72766</td>\n      <td>[]</td>\n      <td>en</td>\n      <td>Newlyweds</td>\n      <td>A newlywed couple's honeymoon is upended by th...</td>\n      <td>0.64255</td>\n      <td>[]</td>\n      <td>...</td>\n      <td>Released</td>\n      <td>A newlywed couple's honeymoon is upended by th...</td>\n      <td>Newlyweds</td>\n      <td>5.90000</td>\n      <td>5</td>\n      <td>[Comedy, Romance]</td>\n      <td>[]</td>\n      <td>[]</td>\n      <td>[]</td>\n      <td>[]</td>\n    </tr>\n    <tr>\n      <th>4800</th>\n      <td>0</td>\n      <td>[{\"id\": 35, \"name\": \"Comedy\"}, {\"id\": 18, \"nam...</td>\n      <td>http://www.hallmarkchannel.com/signedsealeddel...</td>\n      <td>231617</td>\n      <td>[{\"id\": 248, \"name\": \"date\"}, {\"id\": 699, \"nam...</td>\n      <td>en</td>\n      <td>Signed, Sealed, Delivered</td>\n      <td>\"Signed, Sealed, Delivered\" introduces a dedic...</td>\n      <td>1.44448</td>\n      <td>[{\"name\": \"Front Street Pictures\", \"id\": 3958}...</td>\n      <td>...</td>\n      <td>Released</td>\n      <td>NA</td>\n      <td>Signed, Sealed, Delivered</td>\n      <td>7.00000</td>\n      <td>6</td>\n      <td>[Comedy, Drama, Romance, TV Movie]</td>\n      <td>[date, love at first sight, narration, investi...</td>\n      <td>[Front Street Pictures, Muse Entertainment Ent...</td>\n      <td>[United States of America]</td>\n      <td>[English]</td>\n    </tr>\n    <tr>\n      <th>4801</th>\n      <td>0</td>\n      <td>[]</td>\n      <td>http://shanghaicalling.com/</td>\n      <td>126186</td>\n      <td>[]</td>\n      <td>en</td>\n      <td>Shanghai Calling</td>\n      <td>When ambitious New York attorney Sam is sent t...</td>\n      <td>0.85701</td>\n      <td>[]</td>\n      <td>...</td>\n      <td>Released</td>\n      <td>A New Yorker in Shanghai</td>\n      <td>Shanghai Calling</td>\n      <td>5.70000</td>\n      <td>7</td>\n      <td>[]</td>\n      <td>[]</td>\n      <td>[]</td>\n      <td>[United States of America, China]</td>\n      <td>[English]</td>\n    </tr>\n    <tr>\n      <th>4802</th>\n      <td>0</td>\n      <td>[{\"id\": 99, \"name\": \"Documentary\"}]</td>\n      <td>No website</td>\n      <td>25975</td>\n      <td>[{\"id\": 1523, \"name\": \"obsession\"}, {\"id\": 224...</td>\n      <td>en</td>\n      <td>My Date with Drew</td>\n      <td>Ever since the second grade when he first saw ...</td>\n      <td>1.92988</td>\n      <td>[{\"name\": \"rusty bear entertainment\", \"id\": 87...</td>\n      <td>...</td>\n      <td>Released</td>\n      <td>NA</td>\n      <td>My Date with Drew</td>\n      <td>6.30000</td>\n      <td>16</td>\n      <td>[Documentary]</td>\n      <td>[obsession, camcorder, crush, dream girl]</td>\n      <td>[rusty bear entertainment, lucky crow films]</td>\n      <td>[United States of America]</td>\n      <td>[English]</td>\n    </tr>\n  </tbody>\n</table>\n<p>1423 rows × 25 columns</p>\n</div>"
     },
     "execution_count": 232,
     "metadata": {},
     "output_type": "execute_result"
    }
   ],
   "source": [
    "## There was 1423 films that didn't earn any revenue\n",
    "\n",
    "df.loc[df.revenue < 1, :]"
   ],
   "metadata": {
    "collapsed": false,
    "ExecuteTime": {
     "end_time": "2023-06-29T19:14:42.030937200Z",
     "start_time": "2023-06-29T19:14:41.098760800Z"
    }
   }
  },
  {
   "cell_type": "code",
   "execution_count": 245,
   "outputs": [
    {
     "data": {
      "text/plain": "      budget                                             genres  \\\n265        0  [{\"id\": 35, \"name\": \"Comedy\"}, {\"id\": 14, \"nam...   \n406        0  [{\"id\": 18, \"name\": \"Drama\"}, {\"id\": 16, \"name...   \n453        0  [{\"id\": 28, \"name\": \"Action\"}, {\"id\": 35, \"nam...   \n463        0  [{\"id\": 10749, \"name\": \"Romance\"}, {\"id\": 18, ...   \n474        0  [{\"id\": 9648, \"name\": \"Mystery\"}, {\"id\": 18, \"...   \n...      ...                                                ...   \n4795       0                      [{\"id\": 18, \"name\": \"Drama\"}]   \n4797       0  [{\"id\": 10769, \"name\": \"Foreign\"}, {\"id\": 53, ...   \n4800       0  [{\"id\": 35, \"name\": \"Comedy\"}, {\"id\": 18, \"nam...   \n4801       0                                                 []   \n4802       0                [{\"id\": 99, \"name\": \"Documentary\"}]   \n\n                                               homepage      id  \\\n265                                          No website   10588   \n406                     http://www.arthurchristmas.com/   51052   \n453                                          No website   12096   \n463                                          No website  161795   \n474                                          No website  330770   \n...                                                 ...     ...   \n4795                                         No website  124606   \n4797                                         No website   67238   \n4800  http://www.hallmarkchannel.com/signedsealeddel...  231617   \n4801                        http://shanghaicalling.com/  126186   \n4802                                         No website   25975   \n\n                                               keywords original_language  \\\n265   [{\"id\": 977, \"name\": \"cat\"}, {\"id\": 1155, \"nam...                en   \n406   [{\"id\": 65, \"name\": \"holiday\"}, {\"id\": 1991, \"...                en   \n453   [{\"id\": 642, \"name\": \"robbery\"}, {\"id\": 5340, ...                en   \n463   [{\"id\": 9673, \"name\": \"love\"}, {\"id\": 14638, \"...                en   \n474   [{\"id\": 428, \"name\": \"nurse\"}, {\"id\": 658, \"na...                fr   \n...                                                 ...               ...   \n4795  [{\"id\": 10726, \"name\": \"gang\"}, {\"id\": 33928, ...                en   \n4797                                                 []                en   \n4800  [{\"id\": 248, \"name\": \"date\"}, {\"id\": 699, \"nam...                en   \n4801                                                 []                en   \n4802  [{\"id\": 1523, \"name\": \"obsession\"}, {\"id\": 224...                en   \n\n                 original_title  \\\n265          The Cat in the Hat   \n406            Arthur Christmas   \n453            The Pink Panther   \n463                     Déjà Vu   \n474                   Évolution   \n...                         ...   \n4795                       Bang   \n4797                     Cavite   \n4800  Signed, Sealed, Delivered   \n4801           Shanghai Calling   \n4802          My Date with Drew   \n\n                                               overview  popularity  \\\n265   Conrad and Sally Walden are home alone with th...    18.25113   \n406   Each Christmas, Santa and his vast army of hig...    19.83683   \n453   When the coach of the France soccer team is ki...    25.45053   \n463   L.A. shop owner Dana and Englishman Sean meet ...     0.60564   \n474   11-year-old Nicolas lives with his mother in a...     3.30006   \n...                                                 ...         ...   \n4795  A young woman in L.A. is having a bad day: she...     0.91812   \n4797  Adam, a security guard, travels from Californi...     0.02217   \n4800  \"Signed, Sealed, Delivered\" introduces a dedic...     1.44448   \n4801  When ambitious New York attorney Sam is sent t...     0.85701   \n4802  Ever since the second grade when he first saw ...     1.92988   \n\n                                   production_companies  ...    status  \\\n265   [{\"name\": \"Imagine Entertainment\", \"id\": 23}, ...  ...  Released   \n406   [{\"name\": \"Columbia Pictures\", \"id\": 5}, {\"nam...  ...  Released   \n453   [{\"name\": \"Columbia Pictures\", \"id\": 5}, {\"nam...  ...  Released   \n463   [{\"name\": \"Rainbow Film Company, The\", \"id\": 2...  ...  Released   \n474   [{\"name\": \"Ex Nihilo\", \"id\": 3307}, {\"name\": \"...  ...  Released   \n...                                                 ...  ...       ...   \n4795  [{\"name\": \"Asylum Films\", \"id\": 10571}, {\"name...  ...  Released   \n4797                                                 []  ...  Released   \n4800  [{\"name\": \"Front Street Pictures\", \"id\": 3958}...  ...  Released   \n4801                                                 []  ...  Released   \n4802  [{\"name\": \"rusty bear entertainment\", \"id\": 87...  ...  Released   \n\n                                                tagline  \\\n265                            Don't mess with the hat.   \n406   Ever wonder how 2 Billion presents get deliver...   \n453                                  Pardon His French.   \n463                               Your future is set...   \n474                                                  NA   \n...                                                 ...   \n4795            Sometimes you've got to break the rules   \n4797                                                 NA   \n4800                                                 NA   \n4801                           A New Yorker in Shanghai   \n4802                                                 NA   \n\n                          title  vote_average vote_count  \\\n265          The Cat in the Hat       4.90000        366   \n406            Arthur Christmas       6.70000        333   \n453            The Pink Panther       5.60000        550   \n463                     Déjà Vu       8.00000          1   \n474                   Evolution       6.40000         47   \n...                         ...           ...        ...   \n4795                       Bang       6.00000          1   \n4797                     Cavite       7.50000          2   \n4800  Signed, Sealed, Delivered       7.00000          6   \n4801           Shanghai Calling       5.70000          7   \n4802          My Date with Drew       6.30000         16   \n\n                              extracted_genres  \\\n265                  [Comedy, Fantasy, Family]   \n406         [Drama, Animation, Family, Comedy]   \n453   [Action, Comedy, Crime, Mystery, Family]   \n463                           [Romance, Drama]   \n474                   [Mystery, Drama, Horror]   \n...                                        ...   \n4795                                   [Drama]   \n4797                       [Foreign, Thriller]   \n4800        [Comedy, Drama, Romance, TV Movie]   \n4801                                        []   \n4802                             [Documentary]   \n\n                                     extracted_keywords  \\\n265   [cat, brother sister relationship, boredom, ch...   \n406   [holiday, santa claus, duringcreditsstinger, w...   \n453   [robbery, investigation, inspector, killer, cl...   \n463               [love, american, pin, stranger, ruby]   \n474   [nurse, sea, beach, boy, pregnant, blood, woma...   \n...                                                 ...   \n4795   [gang, audition, police fake, homeless, actress]   \n4797                                                 []   \n4800  [date, love at first sight, narration, investi...   \n4801                                                 []   \n4802          [obsession, camcorder, crush, dream girl]   \n\n                         extracted_production_companies  \\\n265   [Imagine Entertainment, DreamWorks SKG, Univer...   \n406   [Columbia Pictures, Aardman Animations, Sony P...   \n453   [Columbia Pictures, International Production C...   \n463   [Rainbow Film Company, The, Revere Entertainme...   \n474   [Ex Nihilo, Canal+, Les films du Worso, Noodle...   \n...                                                 ...   \n4795  [Asylum Films, FM Entertainment, Eagle Eye Fil...   \n4797                                                 []   \n4800  [Front Street Pictures, Muse Entertainment Ent...   \n4801                                                 []   \n4802       [rusty bear entertainment, lucky crow films]   \n\n         extracted_production_countries  extracted_spoken_languages  \n265          [United States of America]                   [English]  \n406          [United States of America]                   [English]  \n453          [United States of America]                   [English]  \n463          [United States of America]                   [English]  \n474            [Belgium, France, Spain]                  [Français]  \n...                                 ...                         ...  \n4795         [United States of America]                   [English]  \n4797                                 []                          []  \n4800         [United States of America]                   [English]  \n4801  [United States of America, China]                   [English]  \n4802         [United States of America]                   [English]  \n\n[858 rows x 25 columns]",
      "text/html": "<div>\n<style scoped>\n    .dataframe tbody tr th:only-of-type {\n        vertical-align: middle;\n    }\n\n    .dataframe tbody tr th {\n        vertical-align: top;\n    }\n\n    .dataframe thead th {\n        text-align: right;\n    }\n</style>\n<table border=\"1\" class=\"dataframe\">\n  <thead>\n    <tr style=\"text-align: right;\">\n      <th></th>\n      <th>budget</th>\n      <th>genres</th>\n      <th>homepage</th>\n      <th>id</th>\n      <th>keywords</th>\n      <th>original_language</th>\n      <th>original_title</th>\n      <th>overview</th>\n      <th>popularity</th>\n      <th>production_companies</th>\n      <th>...</th>\n      <th>status</th>\n      <th>tagline</th>\n      <th>title</th>\n      <th>vote_average</th>\n      <th>vote_count</th>\n      <th>extracted_genres</th>\n      <th>extracted_keywords</th>\n      <th>extracted_production_companies</th>\n      <th>extracted_production_countries</th>\n      <th>extracted_spoken_languages</th>\n    </tr>\n  </thead>\n  <tbody>\n    <tr>\n      <th>265</th>\n      <td>0</td>\n      <td>[{\"id\": 35, \"name\": \"Comedy\"}, {\"id\": 14, \"nam...</td>\n      <td>No website</td>\n      <td>10588</td>\n      <td>[{\"id\": 977, \"name\": \"cat\"}, {\"id\": 1155, \"nam...</td>\n      <td>en</td>\n      <td>The Cat in the Hat</td>\n      <td>Conrad and Sally Walden are home alone with th...</td>\n      <td>18.25113</td>\n      <td>[{\"name\": \"Imagine Entertainment\", \"id\": 23}, ...</td>\n      <td>...</td>\n      <td>Released</td>\n      <td>Don't mess with the hat.</td>\n      <td>The Cat in the Hat</td>\n      <td>4.90000</td>\n      <td>366</td>\n      <td>[Comedy, Fantasy, Family]</td>\n      <td>[cat, brother sister relationship, boredom, ch...</td>\n      <td>[Imagine Entertainment, DreamWorks SKG, Univer...</td>\n      <td>[United States of America]</td>\n      <td>[English]</td>\n    </tr>\n    <tr>\n      <th>406</th>\n      <td>0</td>\n      <td>[{\"id\": 18, \"name\": \"Drama\"}, {\"id\": 16, \"name...</td>\n      <td>http://www.arthurchristmas.com/</td>\n      <td>51052</td>\n      <td>[{\"id\": 65, \"name\": \"holiday\"}, {\"id\": 1991, \"...</td>\n      <td>en</td>\n      <td>Arthur Christmas</td>\n      <td>Each Christmas, Santa and his vast army of hig...</td>\n      <td>19.83683</td>\n      <td>[{\"name\": \"Columbia Pictures\", \"id\": 5}, {\"nam...</td>\n      <td>...</td>\n      <td>Released</td>\n      <td>Ever wonder how 2 Billion presents get deliver...</td>\n      <td>Arthur Christmas</td>\n      <td>6.70000</td>\n      <td>333</td>\n      <td>[Drama, Animation, Family, Comedy]</td>\n      <td>[holiday, santa claus, duringcreditsstinger, w...</td>\n      <td>[Columbia Pictures, Aardman Animations, Sony P...</td>\n      <td>[United States of America]</td>\n      <td>[English]</td>\n    </tr>\n    <tr>\n      <th>453</th>\n      <td>0</td>\n      <td>[{\"id\": 28, \"name\": \"Action\"}, {\"id\": 35, \"nam...</td>\n      <td>No website</td>\n      <td>12096</td>\n      <td>[{\"id\": 642, \"name\": \"robbery\"}, {\"id\": 5340, ...</td>\n      <td>en</td>\n      <td>The Pink Panther</td>\n      <td>When the coach of the France soccer team is ki...</td>\n      <td>25.45053</td>\n      <td>[{\"name\": \"Columbia Pictures\", \"id\": 5}, {\"nam...</td>\n      <td>...</td>\n      <td>Released</td>\n      <td>Pardon His French.</td>\n      <td>The Pink Panther</td>\n      <td>5.60000</td>\n      <td>550</td>\n      <td>[Action, Comedy, Crime, Mystery, Family]</td>\n      <td>[robbery, investigation, inspector, killer, cl...</td>\n      <td>[Columbia Pictures, International Production C...</td>\n      <td>[United States of America]</td>\n      <td>[English]</td>\n    </tr>\n    <tr>\n      <th>463</th>\n      <td>0</td>\n      <td>[{\"id\": 10749, \"name\": \"Romance\"}, {\"id\": 18, ...</td>\n      <td>No website</td>\n      <td>161795</td>\n      <td>[{\"id\": 9673, \"name\": \"love\"}, {\"id\": 14638, \"...</td>\n      <td>en</td>\n      <td>Déjà Vu</td>\n      <td>L.A. shop owner Dana and Englishman Sean meet ...</td>\n      <td>0.60564</td>\n      <td>[{\"name\": \"Rainbow Film Company, The\", \"id\": 2...</td>\n      <td>...</td>\n      <td>Released</td>\n      <td>Your future is set...</td>\n      <td>Déjà Vu</td>\n      <td>8.00000</td>\n      <td>1</td>\n      <td>[Romance, Drama]</td>\n      <td>[love, american, pin, stranger, ruby]</td>\n      <td>[Rainbow Film Company, The, Revere Entertainme...</td>\n      <td>[United States of America]</td>\n      <td>[English]</td>\n    </tr>\n    <tr>\n      <th>474</th>\n      <td>0</td>\n      <td>[{\"id\": 9648, \"name\": \"Mystery\"}, {\"id\": 18, \"...</td>\n      <td>No website</td>\n      <td>330770</td>\n      <td>[{\"id\": 428, \"name\": \"nurse\"}, {\"id\": 658, \"na...</td>\n      <td>fr</td>\n      <td>Évolution</td>\n      <td>11-year-old Nicolas lives with his mother in a...</td>\n      <td>3.30006</td>\n      <td>[{\"name\": \"Ex Nihilo\", \"id\": 3307}, {\"name\": \"...</td>\n      <td>...</td>\n      <td>Released</td>\n      <td>NA</td>\n      <td>Evolution</td>\n      <td>6.40000</td>\n      <td>47</td>\n      <td>[Mystery, Drama, Horror]</td>\n      <td>[nurse, sea, beach, boy, pregnant, blood, woma...</td>\n      <td>[Ex Nihilo, Canal+, Les films du Worso, Noodle...</td>\n      <td>[Belgium, France, Spain]</td>\n      <td>[Français]</td>\n    </tr>\n    <tr>\n      <th>...</th>\n      <td>...</td>\n      <td>...</td>\n      <td>...</td>\n      <td>...</td>\n      <td>...</td>\n      <td>...</td>\n      <td>...</td>\n      <td>...</td>\n      <td>...</td>\n      <td>...</td>\n      <td>...</td>\n      <td>...</td>\n      <td>...</td>\n      <td>...</td>\n      <td>...</td>\n      <td>...</td>\n      <td>...</td>\n      <td>...</td>\n      <td>...</td>\n      <td>...</td>\n      <td>...</td>\n    </tr>\n    <tr>\n      <th>4795</th>\n      <td>0</td>\n      <td>[{\"id\": 18, \"name\": \"Drama\"}]</td>\n      <td>No website</td>\n      <td>124606</td>\n      <td>[{\"id\": 10726, \"name\": \"gang\"}, {\"id\": 33928, ...</td>\n      <td>en</td>\n      <td>Bang</td>\n      <td>A young woman in L.A. is having a bad day: she...</td>\n      <td>0.91812</td>\n      <td>[{\"name\": \"Asylum Films\", \"id\": 10571}, {\"name...</td>\n      <td>...</td>\n      <td>Released</td>\n      <td>Sometimes you've got to break the rules</td>\n      <td>Bang</td>\n      <td>6.00000</td>\n      <td>1</td>\n      <td>[Drama]</td>\n      <td>[gang, audition, police fake, homeless, actress]</td>\n      <td>[Asylum Films, FM Entertainment, Eagle Eye Fil...</td>\n      <td>[United States of America]</td>\n      <td>[English]</td>\n    </tr>\n    <tr>\n      <th>4797</th>\n      <td>0</td>\n      <td>[{\"id\": 10769, \"name\": \"Foreign\"}, {\"id\": 53, ...</td>\n      <td>No website</td>\n      <td>67238</td>\n      <td>[]</td>\n      <td>en</td>\n      <td>Cavite</td>\n      <td>Adam, a security guard, travels from Californi...</td>\n      <td>0.02217</td>\n      <td>[]</td>\n      <td>...</td>\n      <td>Released</td>\n      <td>NA</td>\n      <td>Cavite</td>\n      <td>7.50000</td>\n      <td>2</td>\n      <td>[Foreign, Thriller]</td>\n      <td>[]</td>\n      <td>[]</td>\n      <td>[]</td>\n      <td>[]</td>\n    </tr>\n    <tr>\n      <th>4800</th>\n      <td>0</td>\n      <td>[{\"id\": 35, \"name\": \"Comedy\"}, {\"id\": 18, \"nam...</td>\n      <td>http://www.hallmarkchannel.com/signedsealeddel...</td>\n      <td>231617</td>\n      <td>[{\"id\": 248, \"name\": \"date\"}, {\"id\": 699, \"nam...</td>\n      <td>en</td>\n      <td>Signed, Sealed, Delivered</td>\n      <td>\"Signed, Sealed, Delivered\" introduces a dedic...</td>\n      <td>1.44448</td>\n      <td>[{\"name\": \"Front Street Pictures\", \"id\": 3958}...</td>\n      <td>...</td>\n      <td>Released</td>\n      <td>NA</td>\n      <td>Signed, Sealed, Delivered</td>\n      <td>7.00000</td>\n      <td>6</td>\n      <td>[Comedy, Drama, Romance, TV Movie]</td>\n      <td>[date, love at first sight, narration, investi...</td>\n      <td>[Front Street Pictures, Muse Entertainment Ent...</td>\n      <td>[United States of America]</td>\n      <td>[English]</td>\n    </tr>\n    <tr>\n      <th>4801</th>\n      <td>0</td>\n      <td>[]</td>\n      <td>http://shanghaicalling.com/</td>\n      <td>126186</td>\n      <td>[]</td>\n      <td>en</td>\n      <td>Shanghai Calling</td>\n      <td>When ambitious New York attorney Sam is sent t...</td>\n      <td>0.85701</td>\n      <td>[]</td>\n      <td>...</td>\n      <td>Released</td>\n      <td>A New Yorker in Shanghai</td>\n      <td>Shanghai Calling</td>\n      <td>5.70000</td>\n      <td>7</td>\n      <td>[]</td>\n      <td>[]</td>\n      <td>[]</td>\n      <td>[United States of America, China]</td>\n      <td>[English]</td>\n    </tr>\n    <tr>\n      <th>4802</th>\n      <td>0</td>\n      <td>[{\"id\": 99, \"name\": \"Documentary\"}]</td>\n      <td>No website</td>\n      <td>25975</td>\n      <td>[{\"id\": 1523, \"name\": \"obsession\"}, {\"id\": 224...</td>\n      <td>en</td>\n      <td>My Date with Drew</td>\n      <td>Ever since the second grade when he first saw ...</td>\n      <td>1.92988</td>\n      <td>[{\"name\": \"rusty bear entertainment\", \"id\": 87...</td>\n      <td>...</td>\n      <td>Released</td>\n      <td>NA</td>\n      <td>My Date with Drew</td>\n      <td>6.30000</td>\n      <td>16</td>\n      <td>[Documentary]</td>\n      <td>[obsession, camcorder, crush, dream girl]</td>\n      <td>[rusty bear entertainment, lucky crow films]</td>\n      <td>[United States of America]</td>\n      <td>[English]</td>\n    </tr>\n  </tbody>\n</table>\n<p>858 rows × 25 columns</p>\n</div>"
     },
     "execution_count": 245,
     "metadata": {},
     "output_type": "execute_result"
    }
   ],
   "source": [
    "#858 Films that didn't have a budget and didn't earn any revenue\n",
    "\n",
    "df.loc[\n",
    "    (df.revenue < 1 ) & (df.budget < 1)]"
   ],
   "metadata": {
    "collapsed": false,
    "ExecuteTime": {
     "end_time": "2023-06-29T22:36:14.144793600Z",
     "start_time": "2023-06-29T22:36:13.885471200Z"
    }
   }
  },
  {
   "cell_type": "markdown",
   "source": [
    "# 2) Keypoint\n",
    "\n",
    "Films that didn't perform as well as expected due having a budget significantly larger than the mean.\n",
    "Performance was measured in terms of critical reception by vote average.\n",
    "Noticed Superhero films were a standout in terms of this criteria as they didn't meet expectations."
   ],
   "metadata": {
    "collapsed": false
   }
  },
  {
   "cell_type": "code",
   "execution_count": 364,
   "outputs": [],
   "source": [
    "# Using conditions that looked at films that had lower than average vote with a large sample size\n",
    "# Set the budget greater than the mean by £20mil\n",
    "\n",
    "keypoint = df.loc[(df.vote_average < 6 ) & (df.vote_count > 1000) & (df.budget  > 50000000 )]\n",
    "\n",
    "## Noticed that Superhero films fit this criteria from the initial viewing"
   ],
   "metadata": {
    "collapsed": false,
    "ExecuteTime": {
     "end_time": "2023-06-30T02:10:46.805045300Z",
     "start_time": "2023-06-30T02:10:46.785505700Z"
    }
   }
  },
  {
   "cell_type": "code",
   "execution_count": 381,
   "outputs": [],
   "source": [
    "## Used the keywords column to islate these films as it doesn't have its own genre\n",
    "\n",
    "superhero =  keypoint[keypoint[\"keywords\"].str.contains('superhero')].head(14)"
   ],
   "metadata": {
    "collapsed": false,
    "ExecuteTime": {
     "end_time": "2023-06-30T02:27:31.252727500Z",
     "start_time": "2023-06-30T02:27:31.238719600Z"
    }
   }
  },
  {
   "cell_type": "code",
   "execution_count": 399,
   "outputs": [
    {
     "data": {
      "text/plain": "array(['Spider-Man 3', 'Batman v Superman: Dawn of Justice',\n       'Superman Returns', 'Green Lantern', 'Suicide Squad', 'Hulk',\n       'Batman & Robin', 'Fantastic 4: Rise of the Silver Surfer',\n       'Teenage Mutant Ninja Turtles', 'Fantastic Four',\n       'The Green Hornet', 'Batman Forever', 'Blade: Trinity',\n       'Ghost Rider: Spirit of Vengeance'], dtype=object)"
     },
     "execution_count": 399,
     "metadata": {},
     "output_type": "execute_result"
    }
   ],
   "source": [
    "## Ability to look at the films in this table\n",
    "\n",
    "superhero['title'].unique()"
   ],
   "metadata": {
    "collapsed": false,
    "ExecuteTime": {
     "end_time": "2023-06-30T02:33:01.903265700Z",
     "start_time": "2023-06-30T02:33:01.841376400Z"
    }
   }
  },
  {
   "cell_type": "markdown",
   "source": [
    "# 2) Visualisation\n",
    "\n",
    "## Distribution plot\n",
    "\n",
    "* Enabled to see a broader view of the count of votes depending on the score given\n",
    "* Saw outliers in the data with 50 films with 0 score and 3 films with a perfect 10\n",
    "* Expected a greater number of reviews with a score of 8\n"
   ],
   "metadata": {
    "collapsed": false
   }
  },
  {
   "cell_type": "code",
   "execution_count": 247,
   "outputs": [],
   "source": [
    "## 2) Table of the average reviews distribution. able to see 50 films with 0 score."
   ],
   "metadata": {
    "collapsed": false,
    "ExecuteTime": {
     "end_time": "2023-06-29T22:50:38.311940600Z",
     "start_time": "2023-06-29T22:50:38.268963Z"
    }
   }
  },
  {
   "cell_type": "code",
   "execution_count": 303,
   "outputs": [
    {
     "data": {
      "text/plain": "<Figure size 550x550 with 1 Axes>",
      "image/png": "[encoded data removed]"
     },
     "metadata": {},
     "output_type": "display_data"
    }
   ],
   "source": [
    "## Visualise the distribution of data by a distribution plot – or histogram\n",
    "\n",
    "sns.displot(df['vote_average'],\n",
    "            height = 5.5)  ## altered height so could see everything without scrolling\n",
    "plt.show()"
   ],
   "metadata": {
    "collapsed": false,
    "ExecuteTime": {
     "end_time": "2023-06-30T00:44:18.977512600Z",
     "start_time": "2023-06-30T00:44:17.658533600Z"
    }
   }
  },
  {
   "cell_type": "code",
   "execution_count": 264,
   "outputs": [
    {
     "data": {
      "text/plain": "       budget                                             genres  \\\n1464        0  [{\"id\": 18, \"name\": \"Drama\"}, {\"id\": 80, \"name...   \n3670        0                  [{\"id\": 10751, \"name\": \"Family\"}]   \n3852        0                      [{\"id\": 18, \"name\": \"Drama\"}]   \n3855  3500000                [{\"id\": 99, \"name\": \"Documentary\"}]   \n3960        0  [{\"id\": 35, \"name\": \"Comedy\"}, {\"id\": 10751, \"...   \n...       ...                                                ...   \n4769        0  [{\"id\": 28, \"name\": \"Action\"}, {\"id\": 37, \"nam...   \n4771        0                     [{\"id\": 27, \"name\": \"Horror\"}]   \n4780        0  [{\"id\": 53, \"name\": \"Thriller\"}, {\"id\": 80, \"n...   \n4785        0                      [{\"id\": 18, \"name\": \"Drama\"}]   \n4794        0  [{\"id\": 53, \"name\": \"Thriller\"}, {\"id\": 27, \"n...   \n\n                                               homepage      id  \\\n1464                                         No website  310706   \n3670                                         No website  447027   \n3852                                         No website  395766   \n3855                        http://www.timetochoose.com  370662   \n3960  https://www.facebook.com/pages/The-Deported/46...  170480   \n...                                                 ...     ...   \n4769                                         No website   69382   \n4771                                         No website  220490   \n4780                                         No website  366967   \n4785                                         No website  287625   \n4794                                         No website  286939   \n\n                                               keywords original_language  \\\n1464                                                 []                en   \n3670                                                 []                en   \n3852              [{\"id\": 11162, \"name\": \"miniseries\"}]                en   \n3855  [{\"id\": 2210, \"name\": \"climate change\"}, {\"id\"...                en   \n3960                                                 []                en   \n...                                                 ...               ...   \n4769                                                 []                en   \n4771                                                 []                en   \n4780                                                 []                en   \n4785                                                 []                en   \n4794                                                 []                en   \n\n                         original_title  \\\n1464                Black Water Transit   \n3670                    Running Forever   \n3852                         The Secret   \n3855                     Time to Choose   \n3960                       The Deported   \n...                                 ...   \n4769            The Legend of God's Gun   \n4771  Her Cry: La Llorona Investigation   \n4780                        Dutch Kills   \n4785               Stories of Our Lives   \n4794       Sanctuary: Quite a Conundrum   \n\n                                               overview  popularity  \\\n1464  In this action thriller set in post-Katrina Ne...     0.12674   \n3670  After being estranged since her mother's death...     0.02876   \n3852  The Secret is the story of a real-life double ...     0.04235   \n3855  Academy Award® winning director Charles Fergus...     1.61814   \n3960  An Italian-American actor is deported to Mexic...     0.19485   \n...                                                 ...         ...   \n4769  A gun-slinging preacher returns to the debauch...     0.00358   \n4771  Crew of \"Paranormal Legends\" went to film thei...     0.05646   \n4780  A desperate ex-con is forced to gather his old...     0.03814   \n4785  Created by the members of a Nairobi-based arts...     0.32779   \n4794  It should have been just a normal day of sex, ...     0.16651   \n\n                                   production_companies  ...    status  \\\n1464             [{\"name\": \"Capitol Films\", \"id\": 826}]  ...  Released   \n3670    [{\"name\": \"New Kingdom Pictures\", \"id\": 41671}]  ...  Released   \n3852                                                 []  ...  Released   \n3855  [{\"name\": \"Representational Pictures\", \"id\": 8...  ...  Released   \n3960                                                 []  ...  Released   \n...                                                 ...  ...       ...   \n4769                                                 []  ...  Released   \n4771                                                 []  ...  Released   \n4780                                                 []  ...  Released   \n4785                                                 []  ...  Released   \n4794  [{\"name\": \"Gold Lion Films\", \"id\": 37870}, {\"n...  ...  Released   \n\n                       tagline                              title  \\\n1464                        NA                Black Water Transit   \n3670                        NA                    Running Forever   \n3852                        NA                         The Secret   \n3855  Climate change for good.                     Time to Choose   \n3960                        NA                       The Deported   \n...                        ...                                ...   \n4769                        NA            The Legend of God's Gun   \n4771                        NA  Her Cry: La Llorona Investigation   \n4780                        NA                        Dutch Kills   \n4785                        NA               Stories of Our Lives   \n4794                        NA       Sanctuary: Quite a Conundrum   \n\n      vote_average vote_count            extracted_genres  \\\n1464       0.00000          0              [Drama, Crime]   \n3670       0.00000          0                    [Family]   \n3852       0.00000          0                     [Drama]   \n3855       0.00000          0               [Documentary]   \n3960       0.00000          0            [Comedy, Family]   \n...            ...        ...                         ...   \n4769       0.00000          0           [Action, Western]   \n4771       0.00000          0                    [Horror]   \n4780       0.00000          0    [Thriller, Crime, Drama]   \n4785       0.00000          0                     [Drama]   \n4794       0.00000          0  [Thriller, Horror, Comedy]   \n\n                 extracted_keywords           extracted_production_companies  \\\n1464                             []                          [Capitol Films]   \n3670                             []                   [New Kingdom Pictures]   \n3852                   [miniseries]                                       []   \n3855  [climate change, documentary]              [Representational Pictures]   \n3960                             []                                       []   \n...                             ...                                      ...   \n4769                             []                                       []   \n4771                             []                                       []   \n4780                             []                                       []   \n4785                             []                                       []   \n4794                             []  [Gold Lion Films, T-Street Productions]   \n\n      extracted_production_countries  extracted_spoken_languages  \n1464      [United States of America]                   [English]  \n3670      [United States of America]                          []  \n3852                              []                          []  \n3855      [United States of America]                   [English]  \n3960                              []                   [English]  \n...                              ...                         ...  \n4769                              []                          []  \n4771                              []                          []  \n4780                              []                          []  \n4785                         [Kenya]        [Kiswahili, English]  \n4794      [United States of America]                   [English]  \n\n[50 rows x 25 columns]",
      "text/html": "<div>\n<style scoped>\n    .dataframe tbody tr th:only-of-type {\n        vertical-align: middle;\n    }\n\n    .dataframe tbody tr th {\n        vertical-align: top;\n    }\n\n    .dataframe thead th {\n        text-align: right;\n    }\n</style>\n<table border=\"1\" class=\"dataframe\">\n  <thead>\n    <tr style=\"text-align: right;\">\n      <th></th>\n      <th>budget</th>\n      <th>genres</th>\n      <th>homepage</th>\n      <th>id</th>\n      <th>keywords</th>\n      <th>original_language</th>\n      <th>original_title</th>\n      <th>overview</th>\n      <th>popularity</th>\n      <th>production_companies</th>\n      <th>...</th>\n      <th>status</th>\n      <th>tagline</th>\n      <th>title</th>\n      <th>vote_average</th>\n      <th>vote_count</th>\n      <th>extracted_genres</th>\n      <th>extracted_keywords</th>\n      <th>extracted_production_companies</th>\n      <th>extracted_production_countries</th>\n      <th>extracted_spoken_languages</th>\n    </tr>\n  </thead>\n  <tbody>\n    <tr>\n      <th>1464</th>\n      <td>0</td>\n      <td>[{\"id\": 18, \"name\": \"Drama\"}, {\"id\": 80, \"name...</td>\n      <td>No website</td>\n      <td>310706</td>\n      <td>[]</td>\n      <td>en</td>\n      <td>Black Water Transit</td>\n      <td>In this action thriller set in post-Katrina Ne...</td>\n      <td>0.12674</td>\n      <td>[{\"name\": \"Capitol Films\", \"id\": 826}]</td>\n      <td>...</td>\n      <td>Released</td>\n      <td>NA</td>\n      <td>Black Water Transit</td>\n      <td>0.00000</td>\n      <td>0</td>\n      <td>[Drama, Crime]</td>\n      <td>[]</td>\n      <td>[Capitol Films]</td>\n      <td>[United States of America]</td>\n      <td>[English]</td>\n    </tr>\n    <tr>\n      <th>3670</th>\n      <td>0</td>\n      <td>[{\"id\": 10751, \"name\": \"Family\"}]</td>\n      <td>No website</td>\n      <td>447027</td>\n      <td>[]</td>\n      <td>en</td>\n      <td>Running Forever</td>\n      <td>After being estranged since her mother's death...</td>\n      <td>0.02876</td>\n      <td>[{\"name\": \"New Kingdom Pictures\", \"id\": 41671}]</td>\n      <td>...</td>\n      <td>Released</td>\n      <td>NA</td>\n      <td>Running Forever</td>\n      <td>0.00000</td>\n      <td>0</td>\n      <td>[Family]</td>\n      <td>[]</td>\n      <td>[New Kingdom Pictures]</td>\n      <td>[United States of America]</td>\n      <td>[]</td>\n    </tr>\n    <tr>\n      <th>3852</th>\n      <td>0</td>\n      <td>[{\"id\": 18, \"name\": \"Drama\"}]</td>\n      <td>No website</td>\n      <td>395766</td>\n      <td>[{\"id\": 11162, \"name\": \"miniseries\"}]</td>\n      <td>en</td>\n      <td>The Secret</td>\n      <td>The Secret is the story of a real-life double ...</td>\n      <td>0.04235</td>\n      <td>[]</td>\n      <td>...</td>\n      <td>Released</td>\n      <td>NA</td>\n      <td>The Secret</td>\n      <td>0.00000</td>\n      <td>0</td>\n      <td>[Drama]</td>\n      <td>[miniseries]</td>\n      <td>[]</td>\n      <td>[]</td>\n      <td>[]</td>\n    </tr>\n    <tr>\n      <th>3855</th>\n      <td>3500000</td>\n      <td>[{\"id\": 99, \"name\": \"Documentary\"}]</td>\n      <td>http://www.timetochoose.com</td>\n      <td>370662</td>\n      <td>[{\"id\": 2210, \"name\": \"climate change\"}, {\"id\"...</td>\n      <td>en</td>\n      <td>Time to Choose</td>\n      <td>Academy Award® winning director Charles Fergus...</td>\n      <td>1.61814</td>\n      <td>[{\"name\": \"Representational Pictures\", \"id\": 8...</td>\n      <td>...</td>\n      <td>Released</td>\n      <td>Climate change for good.</td>\n      <td>Time to Choose</td>\n      <td>0.00000</td>\n      <td>0</td>\n      <td>[Documentary]</td>\n      <td>[climate change, documentary]</td>\n      <td>[Representational Pictures]</td>\n      <td>[United States of America]</td>\n      <td>[English]</td>\n    </tr>\n    <tr>\n      <th>3960</th>\n      <td>0</td>\n      <td>[{\"id\": 35, \"name\": \"Comedy\"}, {\"id\": 10751, \"...</td>\n      <td>https://www.facebook.com/pages/The-Deported/46...</td>\n      <td>170480</td>\n      <td>[]</td>\n      <td>en</td>\n      <td>The Deported</td>\n      <td>An Italian-American actor is deported to Mexic...</td>\n      <td>0.19485</td>\n      <td>[]</td>\n      <td>...</td>\n      <td>Released</td>\n      <td>NA</td>\n      <td>The Deported</td>\n      <td>0.00000</td>\n      <td>0</td>\n      <td>[Comedy, Family]</td>\n      <td>[]</td>\n      <td>[]</td>\n      <td>[]</td>\n      <td>[English]</td>\n    </tr>\n    <tr>\n      <th>...</th>\n      <td>...</td>\n      <td>...</td>\n      <td>...</td>\n      <td>...</td>\n      <td>...</td>\n      <td>...</td>\n      <td>...</td>\n      <td>...</td>\n      <td>...</td>\n      <td>...</td>\n      <td>...</td>\n      <td>...</td>\n      <td>...</td>\n      <td>...</td>\n      <td>...</td>\n      <td>...</td>\n      <td>...</td>\n      <td>...</td>\n      <td>...</td>\n      <td>...</td>\n      <td>...</td>\n    </tr>\n    <tr>\n      <th>4769</th>\n      <td>0</td>\n      <td>[{\"id\": 28, \"name\": \"Action\"}, {\"id\": 37, \"nam...</td>\n      <td>No website</td>\n      <td>69382</td>\n      <td>[]</td>\n      <td>en</td>\n      <td>The Legend of God's Gun</td>\n      <td>A gun-slinging preacher returns to the debauch...</td>\n      <td>0.00358</td>\n      <td>[]</td>\n      <td>...</td>\n      <td>Released</td>\n      <td>NA</td>\n      <td>The Legend of God's Gun</td>\n      <td>0.00000</td>\n      <td>0</td>\n      <td>[Action, Western]</td>\n      <td>[]</td>\n      <td>[]</td>\n      <td>[]</td>\n      <td>[]</td>\n    </tr>\n    <tr>\n      <th>4771</th>\n      <td>0</td>\n      <td>[{\"id\": 27, \"name\": \"Horror\"}]</td>\n      <td>No website</td>\n      <td>220490</td>\n      <td>[]</td>\n      <td>en</td>\n      <td>Her Cry: La Llorona Investigation</td>\n      <td>Crew of \"Paranormal Legends\" went to film thei...</td>\n      <td>0.05646</td>\n      <td>[]</td>\n      <td>...</td>\n      <td>Released</td>\n      <td>NA</td>\n      <td>Her Cry: La Llorona Investigation</td>\n      <td>0.00000</td>\n      <td>0</td>\n      <td>[Horror]</td>\n      <td>[]</td>\n      <td>[]</td>\n      <td>[]</td>\n      <td>[]</td>\n    </tr>\n    <tr>\n      <th>4780</th>\n      <td>0</td>\n      <td>[{\"id\": 53, \"name\": \"Thriller\"}, {\"id\": 80, \"n...</td>\n      <td>No website</td>\n      <td>366967</td>\n      <td>[]</td>\n      <td>en</td>\n      <td>Dutch Kills</td>\n      <td>A desperate ex-con is forced to gather his old...</td>\n      <td>0.03814</td>\n      <td>[]</td>\n      <td>...</td>\n      <td>Released</td>\n      <td>NA</td>\n      <td>Dutch Kills</td>\n      <td>0.00000</td>\n      <td>0</td>\n      <td>[Thriller, Crime, Drama]</td>\n      <td>[]</td>\n      <td>[]</td>\n      <td>[]</td>\n      <td>[]</td>\n    </tr>\n    <tr>\n      <th>4785</th>\n      <td>0</td>\n      <td>[{\"id\": 18, \"name\": \"Drama\"}]</td>\n      <td>No website</td>\n      <td>287625</td>\n      <td>[]</td>\n      <td>en</td>\n      <td>Stories of Our Lives</td>\n      <td>Created by the members of a Nairobi-based arts...</td>\n      <td>0.32779</td>\n      <td>[]</td>\n      <td>...</td>\n      <td>Released</td>\n      <td>NA</td>\n      <td>Stories of Our Lives</td>\n      <td>0.00000</td>\n      <td>0</td>\n      <td>[Drama]</td>\n      <td>[]</td>\n      <td>[]</td>\n      <td>[Kenya]</td>\n      <td>[Kiswahili, English]</td>\n    </tr>\n    <tr>\n      <th>4794</th>\n      <td>0</td>\n      <td>[{\"id\": 53, \"name\": \"Thriller\"}, {\"id\": 27, \"n...</td>\n      <td>No website</td>\n      <td>286939</td>\n      <td>[]</td>\n      <td>en</td>\n      <td>Sanctuary: Quite a Conundrum</td>\n      <td>It should have been just a normal day of sex, ...</td>\n      <td>0.16651</td>\n      <td>[{\"name\": \"Gold Lion Films\", \"id\": 37870}, {\"n...</td>\n      <td>...</td>\n      <td>Released</td>\n      <td>NA</td>\n      <td>Sanctuary: Quite a Conundrum</td>\n      <td>0.00000</td>\n      <td>0</td>\n      <td>[Thriller, Horror, Comedy]</td>\n      <td>[]</td>\n      <td>[Gold Lion Films, T-Street Productions]</td>\n      <td>[United States of America]</td>\n      <td>[English]</td>\n    </tr>\n  </tbody>\n</table>\n<p>50 rows × 25 columns</p>\n</div>"
     },
     "execution_count": 264,
     "metadata": {},
     "output_type": "execute_result"
    }
   ],
   "source": [
    "# Noticed the outlier of films that had a vote score average of 0\n",
    "\n",
    "df.loc[df.vote_average == 0, :]\n",
    "\n",
    "# These films didn't have any votes made which explains this outlier"
   ],
   "metadata": {
    "collapsed": false,
    "ExecuteTime": {
     "end_time": "2023-06-29T23:15:26.534560300Z",
     "start_time": "2023-06-29T23:15:26.466185900Z"
    }
   }
  },
  {
   "cell_type": "code",
   "execution_count": 304,
   "outputs": [
    {
     "data": {
      "text/plain": "      budget                                             genres    homepage  \\\n3519       0                     [{\"id\": 35, \"name\": \"Comedy\"}]  No website   \n4045       0  [{\"id\": 35, \"name\": \"Comedy\"}, {\"id\": 18, \"nam...  No website   \n4247       1  [{\"id\": 10749, \"name\": \"Romance\"}, {\"id\": 35, ...  No website   \n\n          id                                           keywords  \\\n3519   89861  [{\"id\": 131, \"name\": \"italy\"}, {\"id\": 8250, \"n...   \n4045   78373  [{\"id\": 1415, \"name\": \"small town\"}, {\"id\": 15...   \n4247  361505                                                 []   \n\n     original_language         original_title  \\\n3519                en       Stiff Upper Lips   \n4045                en  Dancer, Texas Pop. 81   \n4247                en  Me You and Five Bucks   \n\n                                               overview  popularity  \\\n3519  Stiff Upper Lips is a broad parody of British ...     0.35650   \n4045  Four guys, best friends, have grown up togethe...     0.37666   \n4247  A womanizing yet lovable loser, Charlie, a wai...     0.09410   \n\n                                   production_companies  ...    status  \\\n3519                                                 []  ...  Released   \n4045  [{\"name\": \"HSX Films\", \"id\": 4714}, {\"name\": \"...  ...  Released   \n4247                                                 []  ...  Released   \n\n                                           tagline                  title  \\\n3519                                            NA       Stiff Upper Lips   \n4045  in the middle of nowhere they had everything  Dancer, Texas Pop. 81   \n4247          A story about second, second chances  Me You and Five Bucks   \n\n      vote_average vote_count          extracted_genres  \\\n3519      10.00000          1                  [Comedy]   \n4045      10.00000          1   [Comedy, Drama, Family]   \n4247      10.00000          2  [Romance, Comedy, Drama]   \n\n                           extracted_keywords  extracted_production_companies  \\\n3519  [italy, victorian england, young woman]                              []   \n4045                      [small town, texas]  [HSX Films, Chase Productions]   \n4247                                       []                              []   \n\n      extracted_production_countries  extracted_spoken_languages  \n3519         [United Kingdom, India]                   [English]  \n4045      [United States of America]                   [English]  \n4247                              []                          []  \n\n[3 rows x 25 columns]",
      "text/html": "<div>\n<style scoped>\n    .dataframe tbody tr th:only-of-type {\n        vertical-align: middle;\n    }\n\n    .dataframe tbody tr th {\n        vertical-align: top;\n    }\n\n    .dataframe thead th {\n        text-align: right;\n    }\n</style>\n<table border=\"1\" class=\"dataframe\">\n  <thead>\n    <tr style=\"text-align: right;\">\n      <th></th>\n      <th>budget</th>\n      <th>genres</th>\n      <th>homepage</th>\n      <th>id</th>\n      <th>keywords</th>\n      <th>original_language</th>\n      <th>original_title</th>\n      <th>overview</th>\n      <th>popularity</th>\n      <th>production_companies</th>\n      <th>...</th>\n      <th>status</th>\n      <th>tagline</th>\n      <th>title</th>\n      <th>vote_average</th>\n      <th>vote_count</th>\n      <th>extracted_genres</th>\n      <th>extracted_keywords</th>\n      <th>extracted_production_companies</th>\n      <th>extracted_production_countries</th>\n      <th>extracted_spoken_languages</th>\n    </tr>\n  </thead>\n  <tbody>\n    <tr>\n      <th>3519</th>\n      <td>0</td>\n      <td>[{\"id\": 35, \"name\": \"Comedy\"}]</td>\n      <td>No website</td>\n      <td>89861</td>\n      <td>[{\"id\": 131, \"name\": \"italy\"}, {\"id\": 8250, \"n...</td>\n      <td>en</td>\n      <td>Stiff Upper Lips</td>\n      <td>Stiff Upper Lips is a broad parody of British ...</td>\n      <td>0.35650</td>\n      <td>[]</td>\n      <td>...</td>\n      <td>Released</td>\n      <td>NA</td>\n      <td>Stiff Upper Lips</td>\n      <td>10.00000</td>\n      <td>1</td>\n      <td>[Comedy]</td>\n      <td>[italy, victorian england, young woman]</td>\n      <td>[]</td>\n      <td>[United Kingdom, India]</td>\n      <td>[English]</td>\n    </tr>\n    <tr>\n      <th>4045</th>\n      <td>0</td>\n      <td>[{\"id\": 35, \"name\": \"Comedy\"}, {\"id\": 18, \"nam...</td>\n      <td>No website</td>\n      <td>78373</td>\n      <td>[{\"id\": 1415, \"name\": \"small town\"}, {\"id\": 15...</td>\n      <td>en</td>\n      <td>Dancer, Texas Pop. 81</td>\n      <td>Four guys, best friends, have grown up togethe...</td>\n      <td>0.37666</td>\n      <td>[{\"name\": \"HSX Films\", \"id\": 4714}, {\"name\": \"...</td>\n      <td>...</td>\n      <td>Released</td>\n      <td>in the middle of nowhere they had everything</td>\n      <td>Dancer, Texas Pop. 81</td>\n      <td>10.00000</td>\n      <td>1</td>\n      <td>[Comedy, Drama, Family]</td>\n      <td>[small town, texas]</td>\n      <td>[HSX Films, Chase Productions]</td>\n      <td>[United States of America]</td>\n      <td>[English]</td>\n    </tr>\n    <tr>\n      <th>4247</th>\n      <td>1</td>\n      <td>[{\"id\": 10749, \"name\": \"Romance\"}, {\"id\": 35, ...</td>\n      <td>No website</td>\n      <td>361505</td>\n      <td>[]</td>\n      <td>en</td>\n      <td>Me You and Five Bucks</td>\n      <td>A womanizing yet lovable loser, Charlie, a wai...</td>\n      <td>0.09410</td>\n      <td>[]</td>\n      <td>...</td>\n      <td>Released</td>\n      <td>A story about second, second chances</td>\n      <td>Me You and Five Bucks</td>\n      <td>10.00000</td>\n      <td>2</td>\n      <td>[Romance, Comedy, Drama]</td>\n      <td>[]</td>\n      <td>[]</td>\n      <td>[]</td>\n      <td>[]</td>\n    </tr>\n  </tbody>\n</table>\n<p>3 rows × 25 columns</p>\n</div>"
     },
     "execution_count": 304,
     "metadata": {},
     "output_type": "execute_result"
    }
   ],
   "source": [
    "# There was a small outlier of films with a perfect score\n",
    "\n",
    "df.loc[df.vote_average == 10, :]\n",
    "\n",
    "# A closer look shows that the vote count was 1 or 2 which explains the slight outlier"
   ],
   "metadata": {
    "collapsed": false,
    "ExecuteTime": {
     "end_time": "2023-06-30T00:44:55.279142900Z",
     "start_time": "2023-06-30T00:44:55.078715500Z"
    }
   }
  },
  {
   "cell_type": "markdown",
   "source": [
    "# 3) Visualisation\n",
    "\n",
    "## Bar chart with Bins\n",
    "\n",
    "* Number of films were released in 2000s\n",
    "* Suprised that 2010s weren't higher\n",
    "* Classic films are classed as before 1990s and not represented in database"
   ],
   "metadata": {
    "collapsed": false
   }
  },
  {
   "cell_type": "code",
   "execution_count": 265,
   "outputs": [],
   "source": [
    "# Created a new DF by using .copy() to create Bins seperated by decades\n",
    "\n",
    "Decade = df.copy()"
   ],
   "metadata": {
    "collapsed": false,
    "ExecuteTime": {
     "end_time": "2023-06-29T23:29:32.135956300Z",
     "start_time": "2023-06-29T23:29:32.056002100Z"
    }
   }
  },
  {
   "cell_type": "code",
   "execution_count": 267,
   "outputs": [],
   "source": [
    "# Used Pandas to grab the year of the films as it was an object and changed into an integer as a seperate column\n",
    "\n",
    "Decade['release_date'] = pd.to_datetime(df['release_date'])\n",
    "Decade['YEAR'] = Decade['release_date'].dt.year"
   ],
   "metadata": {
    "collapsed": false,
    "ExecuteTime": {
     "end_time": "2023-06-29T23:32:18.398039600Z",
     "start_time": "2023-06-29T23:32:17.618312900Z"
    }
   }
  },
  {
   "cell_type": "code",
   "execution_count": 271,
   "outputs": [],
   "source": [
    "# Dropping columns that weren't required in the Decade DF by using Indexing. Decided to use the long way.\n",
    "\n",
    "Decade.drop(Decade.columns[[1, 2, 3, 4, 5, 7, 8, 9, 10, 11, 13, 14, 15, 16, 17, 18, 19, 20, 21, 22, 23, 24  ]], axis=1, inplace=True)"
   ],
   "metadata": {
    "collapsed": false,
    "ExecuteTime": {
     "end_time": "2023-06-29T23:41:17.633939100Z",
     "start_time": "2023-06-29T23:41:17.541718700Z"
    }
   }
  },
  {
   "cell_type": "code",
   "execution_count": 295,
   "outputs": [],
   "source": [
    "# Creating the parameters from the Bins. Range of 99 years so was able to separate by 10 to view Decade performance\n",
    "\n",
    "period_length = 10\n",
    "start_year = 1916\n",
    "end_year = 2017\n",
    "Decade = Decade[(Decade['YEAR'] >= 1940) & (Decade['YEAR'] <= 2019)]"
   ],
   "metadata": {
    "collapsed": false,
    "ExecuteTime": {
     "end_time": "2023-06-29T23:53:12.485155400Z",
     "start_time": "2023-06-29T23:53:12.395954700Z"
    }
   }
  },
  {
   "cell_type": "code",
   "execution_count": 300,
   "outputs": [
    {
     "data": {
      "text/plain": "<Figure size 1000x400 with 1 Axes>",
      "image/png": "[encoded data removed]"
     },
     "metadata": {},
     "output_type": "display_data"
    }
   ],
   "source": [
    "\n",
    "\n",
    "def group_dec(x):\n",
    "    if x < 1920:\n",
    "        return '1910s'\n",
    "    elif x < 1930:\n",
    "        return '1920s'\n",
    "    elif x < 1940:\n",
    "        return '1930s'\n",
    "    elif x < 1950:\n",
    "        return '1940s'\n",
    "    elif x < 1960:\n",
    "        return '1950s'\n",
    "    elif x < 1970:\n",
    "        return '1960s'\n",
    "    elif x < 1980:\n",
    "        return '1970s'\n",
    "    elif x < 1990:\n",
    "        return '1980s'\n",
    "    elif x < 2000:\n",
    "        return '1990s'\n",
    "    elif x < 2010:\n",
    "        return '2000s'\n",
    "    else:\n",
    "        return '2010s'\n",
    "\n",
    "Decade['group_years'] =Decade['YEAR'].apply(group_dec)\n",
    "\n",
    "plt.figure(figsize = (10,4))\n",
    "\n",
    "sns.countplot(data = Decade,\n",
    "              x = 'group_years',\n",
    "              palette = 'viridis',\n",
    "              order = ['1910s','1920s','1930s','1940s','1950s','1960s','1970s','1980s','1990s', '2000s', '2010s']) # Ordered chronologically\n",
    "\n",
    "plt.show()\n"
   ],
   "metadata": {
    "collapsed": false,
    "ExecuteTime": {
     "end_time": "2023-06-30T00:12:13.888726200Z",
     "start_time": "2023-06-30T00:12:13.174102200Z"
    }
   }
  },
  {
   "cell_type": "markdown",
   "source": [
    "# 1) Movie\n",
    "\n",
    "## Interstellar\n",
    "\n",
    "Used the .loc function to find the most popular film that was critically acclaimed with a high vote average and large sample size"
   ],
   "metadata": {
    "collapsed": false
   }
  },
  {
   "cell_type": "code",
   "execution_count": 317,
   "outputs": [
    {
     "data": {
      "text/plain": "       budget                                             genres  \\\n95  165000000  [{\"id\": 12, \"name\": \"Adventure\"}, {\"id\": 18, \"...   \n\n                             homepage      id  \\\n95  http://www.interstellarmovie.net/  157336   \n\n                                             keywords original_language  \\\n95  [{\"id\": 83, \"name\": \"saving the world\"}, {\"id\"...                en   \n\n   original_title                                           overview  \\\n95   Interstellar  Interstellar chronicles the adventures of a gr...   \n\n    popularity                               production_companies  ...  \\\n95   724.24778  [{\"name\": \"Paramount Pictures\", \"id\": 4}, {\"na...  ...   \n\n      status                                            tagline         title  \\\n95  Released  Mankind was born on Earth. It was never meant ...  Interstellar   \n\n    vote_average vote_count                     extracted_genres  \\\n95       8.10000      10867  [Adventure, Drama, Science Fiction]   \n\n                                   extracted_keywords  \\\n95  [saving the world, artificial intelligence, fa...   \n\n                       extracted_production_companies  \\\n95  [Paramount Pictures, Legendary Pictures, Warne...   \n\n                       extracted_production_countries  \\\n95  [Canada, United States of America, United King...   \n\n    extracted_spoken_languages  \n95                   [English]  \n\n[1 rows x 25 columns]",
      "text/html": "<div>\n<style scoped>\n    .dataframe tbody tr th:only-of-type {\n        vertical-align: middle;\n    }\n\n    .dataframe tbody tr th {\n        vertical-align: top;\n    }\n\n    .dataframe thead th {\n        text-align: right;\n    }\n</style>\n<table border=\"1\" class=\"dataframe\">\n  <thead>\n    <tr style=\"text-align: right;\">\n      <th></th>\n      <th>budget</th>\n      <th>genres</th>\n      <th>homepage</th>\n      <th>id</th>\n      <th>keywords</th>\n      <th>original_language</th>\n      <th>original_title</th>\n      <th>overview</th>\n      <th>popularity</th>\n      <th>production_companies</th>\n      <th>...</th>\n      <th>status</th>\n      <th>tagline</th>\n      <th>title</th>\n      <th>vote_average</th>\n      <th>vote_count</th>\n      <th>extracted_genres</th>\n      <th>extracted_keywords</th>\n      <th>extracted_production_companies</th>\n      <th>extracted_production_countries</th>\n      <th>extracted_spoken_languages</th>\n    </tr>\n  </thead>\n  <tbody>\n    <tr>\n      <th>95</th>\n      <td>165000000</td>\n      <td>[{\"id\": 12, \"name\": \"Adventure\"}, {\"id\": 18, \"...</td>\n      <td>http://www.interstellarmovie.net/</td>\n      <td>157336</td>\n      <td>[{\"id\": 83, \"name\": \"saving the world\"}, {\"id\"...</td>\n      <td>en</td>\n      <td>Interstellar</td>\n      <td>Interstellar chronicles the adventures of a gr...</td>\n      <td>724.24778</td>\n      <td>[{\"name\": \"Paramount Pictures\", \"id\": 4}, {\"na...</td>\n      <td>...</td>\n      <td>Released</td>\n      <td>Mankind was born on Earth. It was never meant ...</td>\n      <td>Interstellar</td>\n      <td>8.10000</td>\n      <td>10867</td>\n      <td>[Adventure, Drama, Science Fiction]</td>\n      <td>[saving the world, artificial intelligence, fa...</td>\n      <td>[Paramount Pictures, Legendary Pictures, Warne...</td>\n      <td>[Canada, United States of America, United King...</td>\n      <td>[English]</td>\n    </tr>\n  </tbody>\n</table>\n<p>1 rows × 25 columns</p>\n</div>"
     },
     "execution_count": 317,
     "metadata": {},
     "output_type": "execute_result"
    }
   ],
   "source": [
    "# 8 was classed as an excellent reviewed film as the average was 6,\n",
    "# Wanted a large sample size with the reviews to make sure the score is valid\n",
    "# Popularity had a large range with majority of the films having a value of under 30.\n",
    "# Kept increasing this condition until the output was only 1 film\n",
    "\n",
    "df.loc[(df.vote_average > 8 ) & (df.vote_count > 1000) & (df.popularity > 200)]"
   ],
   "metadata": {
    "collapsed": false,
    "ExecuteTime": {
     "end_time": "2023-06-30T01:06:52.207296400Z",
     "start_time": "2023-06-30T01:06:52.113348600Z"
    }
   }
  },
  {
   "cell_type": "markdown",
   "source": [
    "\n",
    "\n",
    "# 2) Movie\n",
    "\n",
    "## Dragonball Evolution\n",
    "\n",
    "### Unanimously viewed as the worst film ever made especially considering their budget\n"
   ],
   "metadata": {
    "collapsed": false
   }
  },
  {
   "cell_type": "code",
   "execution_count": 330,
   "outputs": [
    {
     "data": {
      "text/plain": "         budget                                             genres  \\\n1652  100000000  [{\"id\": 28, \"name\": \"Action\"}, {\"id\": 12, \"nam...   \n\n        homepage     id                                           keywords  \\\n1652  No website  14164  [{\"id\": 3436, \"name\": \"karate\"}, {\"id\": 9715, ...   \n\n     original_language        original_title  \\\n1652                en  Dragonball Evolution   \n\n                                               overview  popularity  \\\n1652  The young warrior Son Goku sets out on a quest...    21.67773   \n\n                                   production_companies  ...    status  \\\n1652  [{\"name\": \"Ingenious Film Partners\", \"id\": 289...  ...  Released   \n\n                        tagline                 title  vote_average  \\\n1652  The legend comes to life.  Dragonball Evolution       2.90000   \n\n     vote_count                                   extracted_genres  \\\n1652        462  [Action, Adventure, Fantasy, Science Fiction, ...   \n\n                                     extracted_keywords  \\\n1652  [karate, superhero, revenge, dragon, duringcre...   \n\n                         extracted_production_companies  \\\n1652  [Ingenious Film Partners, Twentieth Century Fo...   \n\n      extracted_production_countries  extracted_spoken_languages  \n1652      [United States of America]      [English, 日本語, हिन्दी]  \n\n[1 rows x 25 columns]",
      "text/html": "<div>\n<style scoped>\n    .dataframe tbody tr th:only-of-type {\n        vertical-align: middle;\n    }\n\n    .dataframe tbody tr th {\n        vertical-align: top;\n    }\n\n    .dataframe thead th {\n        text-align: right;\n    }\n</style>\n<table border=\"1\" class=\"dataframe\">\n  <thead>\n    <tr style=\"text-align: right;\">\n      <th></th>\n      <th>budget</th>\n      <th>genres</th>\n      <th>homepage</th>\n      <th>id</th>\n      <th>keywords</th>\n      <th>original_language</th>\n      <th>original_title</th>\n      <th>overview</th>\n      <th>popularity</th>\n      <th>production_companies</th>\n      <th>...</th>\n      <th>status</th>\n      <th>tagline</th>\n      <th>title</th>\n      <th>vote_average</th>\n      <th>vote_count</th>\n      <th>extracted_genres</th>\n      <th>extracted_keywords</th>\n      <th>extracted_production_companies</th>\n      <th>extracted_production_countries</th>\n      <th>extracted_spoken_languages</th>\n    </tr>\n  </thead>\n  <tbody>\n    <tr>\n      <th>1652</th>\n      <td>100000000</td>\n      <td>[{\"id\": 28, \"name\": \"Action\"}, {\"id\": 12, \"nam...</td>\n      <td>No website</td>\n      <td>14164</td>\n      <td>[{\"id\": 3436, \"name\": \"karate\"}, {\"id\": 9715, ...</td>\n      <td>en</td>\n      <td>Dragonball Evolution</td>\n      <td>The young warrior Son Goku sets out on a quest...</td>\n      <td>21.67773</td>\n      <td>[{\"name\": \"Ingenious Film Partners\", \"id\": 289...</td>\n      <td>...</td>\n      <td>Released</td>\n      <td>The legend comes to life.</td>\n      <td>Dragonball Evolution</td>\n      <td>2.90000</td>\n      <td>462</td>\n      <td>[Action, Adventure, Fantasy, Science Fiction, ...</td>\n      <td>[karate, superhero, revenge, dragon, duringcre...</td>\n      <td>[Ingenious Film Partners, Twentieth Century Fo...</td>\n      <td>[United States of America]</td>\n      <td>[English, 日本語, हिन्दी]</td>\n    </tr>\n  </tbody>\n</table>\n<p>1 rows × 25 columns</p>\n</div>"
     },
     "execution_count": 330,
     "metadata": {},
     "output_type": "execute_result"
    }
   ],
   "source": [
    "# Wanted to find the film that was rated as bad (< 3) by viewers\n",
    "# with the sample size to validate this opinion\n",
    "# The last condition was making sure the film was slightly popular as it would have a large budget\n",
    "\n",
    "df.loc[(df.vote_average < 3 ) & (df.vote_count > 100) & (df.popularity > 5)]"
   ],
   "metadata": {
    "collapsed": false,
    "ExecuteTime": {
     "end_time": "2023-06-30T01:36:28.450056600Z",
     "start_time": "2023-06-30T01:36:28.374047Z"
    }
   }
  }
 ],
 "metadata": {
  "kernelspec": {
   "display_name": "Python 3",
   "language": "python",
   "name": "python3"
  },
  "language_info": {
   "codemirror_mode": {
    "name": "ipython",
    "version": 2
   },
   "file_extension": ".py",
   "mimetype": "text/x-python",
   "name": "python",
   "nbconvert_exporter": "python",
   "pygments_lexer": "ipython2",
   "version": "2.7.6"
  }
 },
 "nbformat": 4,
 "nbformat_minor": 0
}
